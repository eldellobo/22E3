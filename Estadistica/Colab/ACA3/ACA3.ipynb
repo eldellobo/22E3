{
  "nbformat": 4,
  "nbformat_minor": 0,
  "metadata": {
    "colab": {
      "provenance": [],
      "collapsed_sections": [],
      "mount_file_id": "18Nwj9OamhpRvzPfOOIyKPlTiJoM2PNU8",
      "authorship_tag": "ABX9TyPzNro9jB9jlYkvmMsIvOtz",
      "include_colab_link": true
    },
    "kernelspec": {
      "name": "python3",
      "display_name": "Python 3"
    },
    "language_info": {
      "name": "python"
    }
  },
  "cells": [
    {
      "cell_type": "markdown",
      "metadata": {
        "id": "view-in-github",
        "colab_type": "text"
      },
      "source": [
        "<a href=\"https://colab.research.google.com/github/eldellobo/22E3/blob/main/Estadistica/Colab/ACA3/ACA3.ipynb\" target=\"_parent\"><img src=\"https://colab.research.google.com/assets/colab-badge.svg\" alt=\"Open In Colab\"/></a>"
      ]
    },
    {
      "cell_type": "markdown",
      "source": [
        "\n",
        "\n",
        "\n",
        "<center> <h2>ACA3</h2> </center>\n",
        "<br>\n",
        "<br>\n",
        "<br>\n",
        "<center>\n",
        "<p>Presentado por:</p><br>\n",
        "\n",
        "\n",
        "<p>Luis Miguel Arias Rodriguez</p>\n",
        "<p>14467436</p><br>\n",
        "\n",
        "\n",
        "\n",
        "<p>Presentado a:</p><br>\n",
        "\n",
        "<p>Ing. Milton Hernando Buitrago Torres</p><br>\n",
        "\n",
        "\n",
        "\n",
        "<p>Especialización en Analítica de Datos, ESP11</p><br>\n",
        "\n",
        "<p>Corporación Unificada Nacional de Educación Superior, CUN</p><br>\n",
        "<p>Octubre 12, 2022 </p><br>\n",
        "</center>\n",
        "\n",
        "\n"
      ],
      "metadata": {
        "id": "0fppUG2kNGSU"
      }
    },
    {
      "cell_type": "markdown",
      "source": [
        "\n",
        "\n",
        "---\n",
        "\n"
      ],
      "metadata": {
        "id": "gcTby6ThjeOo"
      }
    },
    {
      "cell_type": "markdown",
      "source": [
        "<center><h2>Variables</h2></center>\n",
        "\n",
        "![image.png](data:image/png;base64,iVBORw0KGgoAAAANSUhEUgAAANYAAAChCAIAAAA0ptYAAAAAAXNSR0IArs4c6QAAAERlWElmTU0AKgAAAAgAAYdpAAQAAAABAAAAGgAAAAAAA6ABAAMAAAABAAEAAKACAAQAAAABAAAA1qADAAQAAAABAAAAoQAAAABZDElCAAAnGklEQVR4Ae2dedytU/XAjU1UaBKFSBJlKLcBdYn6+NwQP9OVQoYIqY9uyPQRN+Wjz0eRsYzdVOoX6lZKEmkwpFKkQuo2DzQX8vt9X+vedda719r7POe85z3De/b543332c/aa++9nvXsvZ9nf591lv7hD3+4VP1UCwzOAstR9QYbbDC4BtSaO7PAj370o5l0vujOMp0ZYGrS//73v++///6p6ailZ5oF+uqCc+fOPeOMM2aaCWt/pmaBiYlYPn/4wx9uu+22TTfd9KlPfSo511xzzTrrrPO4xz3u9ttvf8UrXvGPf/zj+9//PvnLLrvsM57xjA033HBxscn//vjHP95xxx2vfOUrJfuuu+5CwxOf+MSf/vSns2bN2nnnnffaa68777zz8Y9//AorrEB1L37xi5/ylKeI8Le//W0kn/nMZ95yyy1W67bbbsvYqZmUZSZaZZVVROYXv/jFd77zHZTQSOqyBf/0pz/deuut5Cy//PLPfvazn/vc55L+85//rKpEGP1LL720Leh12lLagOb6kfRmWXPNNW2l45vmduT/Hv189rOfxQo77bSTfOW0zZ8//6KLLiLze9/73qc+9Slrox133PGhhx4SSfv385//PGJXXHGFZB5++OGnnnrql7/85c0220zFDj744Pe+971S3UknnST5f/nLXx772Me+6U1v+spXvvLkJz/59eZDRWjAyTj6xje+EVVPf/rTOaMUPPPMM3G71772tdttt93TnvY0fEtrIfGFL3xh5ZVXRhNOxmWz5557PvLII6F+WyrUGTaguf7QLLbS5mk9X82LDLMk3WmNguJheMbChQvnzJljHU7TnIkXvvCFH/nIR4477rjzzjvvgAMO+NKXvvSiF73IXtCMZAcddNCWW26pA5UWTxI4zeWXX37ssceSj9c+5jGPEYF1111XHNTKr7322hdffLHkMJpScNddd333u9/NOPeCF7yA/E984hM44qJFi1QPmc9//vNFFcPzFltscckll6y++uqhftHMCB3q5KhvABdDc/3NzSItGZ+/6VrwSU960mGHHfavf/0rNMGKK6646qqr4jQrrbTS17/+9b/+9a877LADg4EVftnLXsaogxKbGaaZhZnfmaw5igOxUhSxv/3tb99Y8mEZIJn/+c9/fvnLXzJFXn/99T/4wQ8oe/XVV+Nz4n/I7LHHHoyIslqQIvYvqwsG+Ouuu47MUL8IF3T6BnSkv7lZrNpxSKej4GmnnXbggQeefPLJ5c4zwv3ud7/DEZmjn/WsZyXCH/zgB1mu2ZGMuUBlNM0KbPfdd2c8Y2q+7777mDFvvPFGxH7zm9+wBhB5Bl2mctKsJhmbf/WrX+G16Mf5brjhBqZsVUuCCfqee+5hcLKZmn7Oc55Da/ka6hex3/72t6FO+usbgL+qchJt9Xuz2OJjm05dcKuttmK9hSOyAssZhfGAs7j55ptza7LRRht5MVZg5557LtP0Nttsw8THCMQ8qGIPPPDAJptsIl9xQW5QcJ1ddtlF7wme97znffGLX1R5SXADdNNNN/3973+fPXs23rDMMstQ9ZFHHolDS0Ga9N3vfpfbqaSgfqWULBhC/SKW0/nzn//cN0A1S6Kt/sQsSfGx/ZpOxBjiAx/4ALeroUW+9rWvXXbZZfgoMzU3B/xlvJS7zkR+++235y5hwYIF5HPKGTKZQEmz/Lz22msZ20SedSS+zjins3CiJ/nKSuDjH//4WWedxV3Fa17zGpzvlFNOYWL99a9/zRqOyY51XlKEr//9738ZX1m8vuENb/BHbU5bnbYBWrC5fmsWLT7micAFuUt4//vfH9rlmGOOwf9uvvlm3JQR7p///Cf3JQxOofDpp5++2mqrcQiHvvDCCxnwmM4Yww499NCXv/zlWoR8luqs6zUHn6aIflj56SESODSVvuUtb0GAqZAPY9v666/Pg49kVYowD3oQw2/22WcfhnZuksgs6Oe+u61ObUAX+imiZiFdP1hgaYalvm348OiRSVkn3F6dAFaHPEKyN8JT1zwdOqfeKjTMvA26dC3YEzPllDC+5g5NJZ9xbirFw7LToTOsqGYGE3E1SrVAPy1QXbCf1q51BRaoLhgYpWb10wLVBftp7VpXYIGJO+Igu2ZVC/TLAhN3xH17KNOvTtV6RskC/ZiIKyw9Sh7R97b2wwUrLN330zpKFbYeTf/+978XkIRtBhCYjTfemH5opvaJHTa/DzHqsLTyz9AP7CJCUbCFY0lp6X6B32a7nG1otn/gJNZbbz01lwewQ1sJP8FO99133y27iKIhp5ajYfPKeDZnE+ANzk2bJwlfr+QDlNjdV3YWhC9J5IW39wA81P23vvUtwBdfLxOjHJqoiNsRoWqBpqRi+QsWSn6SySFwJpG3f0MqeIRgaeWfwQjg+4FbH3zwwZCvDvFpdvPYpObNAZhFzhO7wGKcEMAObSXybGRzDfzsZz+Trzm1cjRsXkE5pT796U+/+tWvluL2b1KvHgKHY/teAXaQFDmUyAuV5wH4e++9F/KNIr5ePcTR1igonscmPcDSO9/5zo997GPYQjKxOxCKpGkTbMsMg6XpmvLPOB/vrwj+E/LVHp+GuhBYBj2ctre//e28sVAAsEOCGt7nyiuvfOtb3wrnJogkw6pXK2dB/obNC5XbUkna12sFGJ4t98mhUJ4Lj9HKA/BWVS6drgXZ70dUplq4QCmGF3NB8/nkJz9JzsyDpa11wP6Y/uBPycTcS/DtbxT4bVBCZsD99tuP1w/Az8R9uZhzUHdIUPN2DlMw7zxAFYnlQ7W2qWHzQuW2VJL29VoBYCjmYvlgFg6F8jkA3qrKpdNRcOuttxbR173udTDxXMp8BSB9whOeQAJOaf/99595sDRdw28Y3rAyb+vNmzeP153wuZCvxkcTfpvZk7f44BFPOOGE3Xbb7T3vec9RRx2VA7Ahx6jOE9QXXHABBBpv+kG4cc2DNjIYe7WU1U/YPI565VrEJ3y9VoZewAVLDu8MsbwL5Vk6hwC8VZVLpy4IKciNCBiz3I5IMTBVGGlVMfNgaboGRcuKEGcCGVScjEuuCb/NKynLLbccpuOD4zIO7b333jkA+yc/+QnVJQT1j3/8Y5Bv0cAS8Oyzz8YFQ7X4pZ6IsHleucr7RFivFeOyhFPWnIJ8CMBrwVwChelEjKtBDlv/ozC2+N8lH27EGCpmGCxNH1l7cOE1xxktPs1tJms4xiTRwyXKu8ZtAWxLUDO0sMaHBeTDcwmGZFw5VJs7l0m+VZ4csl/Deq1Aki7IdwrAi2YUpi6oA4Ctm2Xm/yz54LYzD5a2nbVpXAFwUD85fpvXSXn0wJjEEMV67kMf+hBrlSYAthLUvF3KOzRSNWV5HMFNCc9TvdrmzVPltghDmnaHdyDDeq289QfujcryCQBPWS2e1CuHRGE/qOkRgqWt9TtNY1Ce+bGITApOEcDOqU1qGd2v/XDB0bVObXkfLJBOxH2oslZRLWAtUF3QWqOmB2CB6oIDMHqt0lqguqC1Rk0PwAITj6Z5FjWAmmuV1QKPWmDCBSs1XZ1hUBZg+KsT8aCMX+tdbIHqgtUVBmyBFqbAFif7knCXbAH7oNMCL4G/wu0QLhegRogP33wFYgt4MDHaCDgEk0IswLXWWgsllgHWYM42UyqSuNC0sCGiTKmcMIf6RAUvtVSCGdt+dd1ZMQh/E+Wh2YEIAXxe+tKXSikJ9y2WT4p7wtm2VoqXz4I2rGlCqWkNKy2IYhJ0GroVUEGRfbBCwu4KQ5v8VSA2R/DCnsCJsAH65je/GdQRKgQNIY0cgsE5lhic0cedzglLm/tDBVNXghlPvbPW5ony0OzUyNWupSTct3xNinvCuaOzoFU0TEy8Q5xzQVyYzqBI4p5zDcEjvepVr2KAlPcPhK6DMb7qqquIAKlVWhfk4iMwMDgnRyX0Odcc/gcMIvLUztY+hGZiIy6AE088kc6/5CUvUc2SQBIgQNLELORdDdJEPydEMWtbyYcuw7lFrRcWGf7igmCh+lUSALm0kAh0UIOSwzWJNkgQ+cq1R78Ir6g99adND1HEK5xiZ6UZ8tcr56x5syc1qgv64r4vzc+CbVjDNA6QXQsmQachHR5++GHoRTguIvvCEvOiDaMOffDhpnUE9gQvZx2ngaUTGW7GCfGrkDbObaNJI+PB4JAlziHKobA2j0QfqOAQM+by6Lqztv2hcm92W8Smw+JWQNINz4Iv2CQn64IEhORS1qDTxHBGnbwbxkUGV8dakPWcENSgwrnKIHhxX33/gPdRJO4l8nDtvCgEjwQAxlehkXlHC9KOEYijZAoYTOhpPpdeeik5whLTABBlBqf3ve99ZOYQ5VAYef0IFcylxYcRmnwINsA0pZdFErhIqGBGdK4Z/xKaKvSJUOFUOmurCJUjkJidHIYlLajpXHGVlETDs5CUavo1NxFjIwKqyvjE6Ze3Rs455xxaDzTGSE4FjIV+vNU5iBmBdSsCzNQgTGDAvJUDmQyfLKXA70CFmdDB03Wm4ILjBB9xxBHIhFMADs1Qqhp4owDXIfovTsN9kuSTg9PAJ4fCIsNfPxGzTmdo540FPry5A8CLGNcP1wOx/Gk5GN/xxx8Po99wIg4VTrGz2v5QeWh27MzNhxbkTT86EhZvOBGXDasVtU2UJmI8zAadJqwvfWDg4Vdr+I0aeeMYmQJBrReBJXgZ9piDiAvNjTNnlL/86I1KkrA0ss3XdMgS5xDlUFhV+QSjgqeXRaxrKjinELXddVabXWgtMtbsLIh9uO9yca0lTHRq2FDJ4szCKIgLc7kjxyhImjmUSZOHCOQwdBFnHGfiEQBfiT+u/s6tCbMzX/VyJM2NPfMvoyBpfriBSOgs+RFbY401PvzhD7PK1IFB9ODoPAZiFGQwY5zTD0MRr5C+7W1v4+Rxo8NEzPtmUoRrmh8eQy2rWKzPEx/yc8JShFFQh2RyaAajtR3a+cGmQw45REZBBLgCWQqTkFFQe8rIwUsn2kjec5BDOYVT72yhtTmz88suWAz7gHPzglWubb4vHZ0FGtbRB/frGFnlFpihi9O82IW7/YcJeDqIF3anIMcSh4hyTri7qvtfqoft7y3BPvWG8RCjYxfs/wmoNc5gC9Q94hl8ckema9mHMiPTg9rQEbdAdcERP4Gj3/zqgqN/Dke8B5WaHvETOPrNr9T06J/DUe5BvSMe5bP3aNvZk2R3gL+j25O6FhzdczfRcsgxSCUeEY9uN1rUtPQBaJb9X0KOsnVGDhu4YCxEsW27HeJBaFEIMdA2fjJhh6ET1IhEpiIeLV99oGYyCxQ0GAuBiJCBcYRaIGQv6Rz0yyH9JI305LCi4Lm4yiA5t9xyiyokAaJBewAZ2TaU/LvuugsGgrrCziZtkCJoYMOQkF8Az+wBajPkKPbhKEG9cEGJTRoi0xLIWorwN6koLAIMBafSJ8pa94hla++www6jlYQXlq8LFy7kK3ua5Y2/EISWIgmUG2LM0KzUKHAKCdAvynZBQWvIaE4/u73s8DJDscVJxGMNmEyCjeOkO0kjPS2i+I9QZz6uclgL27VYj9CrUp1Au2FnEUjaQA4jHPu5QGK8JsGOOdeSNoOjoX3CGqV2/ZtUFBZJdrEVcUVJUtzbKjRFeN7Rhvu1qGm+M8CwjQ0IAyDNtUKOd0GPSSNJKQ9CU9xDufQthzFD/h144IGU4tMdBY0LEvZZNDBcQTfyNgIW8ei1yMhf30hvVj33uGBIUIe1cHY9wCyV2s6S49vA5MPMA3sh8vvuu+/RRx+tzcjZp1BjrrNhkZwL+nZ6W4WmyJ13XHDSWhD7AphwecEQfPSjH+UK9h8akWDSBRDaQ7ltMWapsWsKWhsM0wr9D7RCjod+VYyEb6Q96tO5uMphLQ0BZt8G3klgLNcfq+d0QA9pY3L2QaBco6+obRGtlERY3ApI2puicN4nuSDBhKGwiCbNIoB0eJ/lMekCCO2h3LYYs/ShawramoPJCz3keOjXivlG2qM+nSOoc7V4gNnr9G1gncdwq5JUqmkSOfuITKFGX1GuCKOm1qjpXHGVlIQ3Rem861qQmwb6yZqXuYMbAnQxr/mJWMZz+zcHQodQboG2tXNTdxS0nYhpIT9dQQDxcF7Q9oeN9JOLzoDCDnqCOqyFOc5z41K17WzYBjB1XhbTdvKOBLOTNiNnn0KNqAorCov0jbKeNBHj4LSSILVnnHHG+eefD5oqvCq+yG2XhJpmRveYdA6ERiFLV5498mGl2FH85ClS0Nwh8qIx7edtgeQCTb6GjUxk/NdOCWoLMHttYRu4BeHFA3ldhnUtb/TZgjn7qExYY1hRWKSvlLWMgpwzqGbeY9fLjtDH3JTIKKitJOa/x6QpEoLQIYFcwJiJN8+gpQ3gku2UgmYUFMqaZx88kcEF0cb4JJlKNTOGSS3NyWEFpGUUpHhCUIe16ACDvOXG+aqdzbUBmW9+85vcSDGFQTtzT4qkNoOjoX0KNeYqyhXpD2WN+/USWaWTDUFoPB5XxkfVuXOJGUlB5zob5mNSZiRZGnmB0D5erOuc6aasmSF76YJd97MWHFsL4IKT7ojH1hC14wO0QHXBARq/Vj1hgeqC1Q8GbIHqggM+AbX6Sk1XHxiwBSo1PeATMObV1zviMXeAoeh+XQsOxWkY50a0oaYJx8R2Fgbi6TybGSA3BWMNAzgtzUvA4JCmTgjktnwyEegASNnDZPePWkLYWPjkpHbPYOdA7gIQHvYrbENfgeeCNzQ/pKQM2458EmoaPsyq2nHHHT1yLAWHBJyWxiRkL3vHQLXw0pamVuqEIr3lk5PaPXfDhrIHuXNcsfQo7Bfbu5ydhMrO0aZomL6G2UZ2lMb92lDT4oL0CgIMWp0OE4ttmMFp+u/JXgtxKU2tLthbPtnXHrqgB7lzXLGeUa8ZF/RUds4FffFeNUxb2EUCF5y0FsxR0xLMj99mh1flp7zpzDCD02Wy19LUMsD3lk8u165TSkdcsZQKNZcZaa2ORFjcCki6i4Z5JR3lTHLBttT0KquswupwyMFpqDgfLNoaRWlqyewtn9y2dqm0M6740TI5zZ6RZjTS/mo6V1wlu25YoqHjr7oWDKlpLh00Aq7RE9bvUEMEoPbjLTOdhiu1EaRDTHdawemwRjsR03ihqXUi7iGfHNbecL4rmIU2h5oV9bPRvPsGPHs36CJn0kTMVYKKkJrGOvySB87HLRthvocZnKYXHtXW6zKkqXvIJ5dr12aEiXL05rJmy0j3FXgOe9JppoyCOWpaRkF08lCGcOcEQMdNhxaczoHBjIKeprYEcq/45BAUZxRMIlGHiHWBJ8/1S0dBToqlsvsDPHcx5vkiuF+PkdWRBqcHyyfL2NGcJ2871kw38Ny2AU0EKjXdxEpVZhotUPeIp9G4VXVDC0x6KNOwTBWrFuihBaoL9tCYVVU3Fqgu2I3VapkeWqBS0z00ZlXVjQUqNd2N1WqZXlmg3hH3ypLt9RCvlp/fbi83fhJ1LdiPcw5bxL4ZV3w/Khu1OpYlUjGhjCUgLtSkxnm55pprMBwBdZIekY+8/FQ2h/i1diBh4oES6BICpXyUTSTE4CH0QzhDcGWiNGs8ZAIy0ww2CQjnhRgYC2kIHW0G1RGnS+U1X7BnisAfPPDAA7ScTTlbIwWh6+THbCmFZtA6wB/iBhHAiZxQA3CGdE0qytWuzSDBHjpIG5Q1VoINI4cmEbuWSFFWjDRdI2obYbGT/OQrO6LeRPIjpr4XtiynlWbwm73WgFZg4Gm2cFrIKlA+Ic5pNBt5t912G407+eST/abelltuKb/NLof4ZWEiwSl1Uj4a0sIh+suuruecpcYE/dUWahH27AmrRcg50FqcDNoetALGYrPNNuPiIUQuRcJAzaEG7Vq5dm1GCD8nSkSYzUyuf6KJatlcIjQRwmEvVAmex68nEzgeCxCkVfOHKsEeccsF+Ylr3I6wfDTxmGOOYQjBcB6QJnozZ1e6QUw3AHQgRzVx+Sgu6Glh7OvRX7zBR42mUo/+qkFtEbnuCeSfIMSE/j3xxBNzgZpDDdq1cu3aDGr0wbRVCdvQ1CLCOB+XfUMX9CbK9UKrAK7ZZZddqIvTvPrqq2sLhypB21prQeLT43bAczji5Zdfzns6oDEekN51111vv/32++67DzECMPIVppq0fMpHkfFQLpll9Ndyzg3RX36wgNmQhQHKcUc4KCYs6GhYRiJFFwI1Sy/4azVoZpPaC0GV0cOUyjUgCvmt+1xAb61RE95EuV5oFSxpKIWGDTbYgPPI/ZBqG6pEywWZhZlGcT5WWsT3lIWLB6QJFLnHHnssWLCAblxyySUEprb9KR9F0tPCUtyjv1atcs5c2QUimkCuLC5Z2+FnRxxxhKxrcaY5c+ZssskmRCadN2/edtttVwjUHGrQlpRrF7FSUOWllmIJy+JPJOW3VVR520RiolwvtAre3NPRgcTQumBrImZ8lsi+zLP8jgpr89yIfdNNN/EbIfzlihcZnWj4Wjiam4h9QGY7J6JTOOeQHNZGUgTP4/aCFa6saDmkEzGjr/glmblAzaEG7Vq5dm1GCD+rEhWTBPcKDSdib6JcL7SKd73rXcRyla+4IGsqPTQ8iUkTMVchSwdu4rgVZaiQeygPSCPGuh6ClfViMgTKdVw+WrjWLfqrYtwzatToMjlMERrPDQcTNysK1SAJzgHn7KyzzuIyKARqLmgIa+eWYtGiRbauMvzs5bVs4ZDKWBPleqF6Zs2axUXFOoT3a5kc5OeZVNUQJXBDe03wsi2NY9EjmSEgzaHTTz/djpSWQC4c5fTjHBrzmQTvyYfoL7YTSY0ajWVDJlkbTxG9g9FMHQUlh5/uYE7numJI84GsQw3StVzt8pteWh2JEH5W+/DCKL1WeWYMHQU5EVwnesgmQhMhEPZCq6DNBEknPDhLLJ4rWYXDk6bXPaamh+jaatAUHqBwITHyNZDtTITBm6tXH7I2KczeCb8PwHu0TYStTLkXHMXp/bRgNQwwzeP6iUeyY/tZYYUVpqnvEv+kI+WsX3kQ21ERES73ony0i+p6XqR1R9xz1VVhRxZgFubpSUdFZoZwdcGZcR5HuBfVBUf45M2MplcXnBnncYR7MXE7UiGiET6Bo9/0CRccz1Xw6J+7mdCDSk0P4CxWfDoxel0LJgaZ3q8QKxWfTkycPpoGr4CU4ffo2dVJROUrEB5b/nqIZ7Cbb745mVtttVUYQhncAbKN3TApIjta0G9gwKqEBNvwyRN8+GQQaOAdEUM5zAvbWfKVvSn4Z7ibpDGCn4BmJaGhYRfgcCEV4DdFA8QKzZBFiJcH/4Z04lmdCAOHs63HZpf01IePFrHkL0XY4KbqTTfddL311uMoneIHb9lGTyTZTaHBAHJJfvKVHRdvTAHIfRdsWZ57sxnIz7zTBZs/FOlkjziJNe03Ew8//HD2kSFl6DmJ3XbbTTEQtoB9COWQ+A0lk7oSOjrZ7eX3ednw9Y1BScgSy8YXsYqlFmZDSHpo6pw8rl+Aw33IwKTxfK34tLeJz8H9JsFaXLXg8pwb3qXgeqWAp6ZFi/1de+uCDaFoXNBL2vZ5Ojp0Qd+YHEuMCzIG8GvqUoT45gyBuGBOvox/N3FBGlzxaXtOwzQuOGkt6GNNe2q6PHQ3h6JDSVXehE9WYZvIscTIMAszMrESIE0Evrlz55LIybfFv22lYbri06FZfOYkF/Sxpj017VXYnOZQdE5StIV8MpeR1mXTmkkixxJziLXm7rvvDhbO8pQXD/DIgjx0SQEOtzXm0hWfzlkmyW/djrDihvjlPPFGJuAQC2QZITbaaKOkTOErUw+ApBdgfj/33HMPOOCAbbbZhldpEMhJcgjijYDJEL98GLfOPvtsKCZAVIEXRTmvacLi+4po7ZFHHomDys0Njo4q7gbk8TsuyAsJYK3AuSKQk0fzfvvtx3qU+yRipOptkK8xl3PdddexnpFe8LYNNzd77713Trij/MSYhS6IWlYgSu0z+XBtdFTddAu3RkEGHs5cEmua1SEEEW9UTL0dlvgtawv5ZFwWKJ9XkCjLAuLaa68lwLrXk2OJRZK1IEjpqaeeKrMwmQX5jvBvZZW1SRWfVlOUE4tdkJv2Cy+8kIcChxxyCBfrvvvuy1tC3Mxy9Rx33HHczydaGEJkFCHfpnFWADX98MaaLQhrvdpqq0lOTpLRl7ei9K1vVgI777wzIyg6aSHDGG8UzJ49Gx4YRlpU2QbwzIXBmw837Ouvvz5zLiy0bQMauBHhqZNkluUZCBnMeAfZV8SMod3kxXXmkHXXXddWhJfzoIorh1GH+2uubfqiTeV5kzymUc1altUqLdevuYQaM9cFrYIHF1yuPH466KCD+OWinMJB5Y8eNc1jtvDtkMSCzOAdEdGdyifV5b5WfDpnGclngTR6Llju0gw4yrvo3C2NycZ93SMeRo8dN3y6dTsyjGejtmkMLFBdcAxO8nB3sbrgcJ+fMWhdpabH4CQPdxcrNT3c52cMWlcn4jE4yX3pYtc0eHXBvpyfmV7JVGjwFqYgVmKjiX19kEE25tnOD03XN3Ca7TXCfNEMGgMrII3xeHCOiCbctOxuU5ZtPbAG9sc6oq8Tcpv2iEL2XQgQTThhtY9vlWXIAbx51GwDPquqpG0eJr///vs10+rxSHbOPgXWOungYGhwS02zHcxJkp6wkarxtcAX7MezypZa7RU4DVXK7idbuvxkNeGwOKO0oSMimt1hCVidRJ+GP9DuFOhrZBJyWxWCzxCyiLi0EsgwbBXIKu33Ya6lalVl2xbC5KEethPZR2ZPH6IMEIb9YlEbtiQE10U+6WATFDesWh1A1Mpf0I0mwbRb1DTjDc5H+HJey+CNB65aqC0ui4GA0/Ba1E5LpDNgE0cffXSOcM4R0ZxmDfeWiz4tLii1WBScHE9uW4UMvXAGwNW5ViWYt4S5lor4a1Vp20KYPNRDJgCEaIMegkYjnWsJLsiAwpzA0IsYIwisEAnfwSYuGFatLqiRrtHP3NUkmHZrLUgIOlzwqKOOgiLh8iJ8JU3k58r5u8MOO2AyGR3b/g1xaB8qGT2hpOjHrIw0yrMQk5k3ReBfiL3JaysiwwBA9EEiFPI1JKJFTP6GsaOtgE+XyW2NgF1olQ9z7Wshx7YttInXEyLZhZaE9i93MGwqmWHVKsyk32kw7ZYLspqRCkSdnGkg5IGA0zSG+UU7JsuDToloirN089GnuUBVs01rpiRCctvKsDygSYVW+TDXtnjYthAm93pCJLvQEupNQlWT07aDtrWaDqvWoxrpmpyGwbRbtyPE16cYLy8yupD46le/yl/OH69p9h+chm8jKC8NkA8vOLIkz+HBOSKasuhh/GbJz7JM/LghfR2S20uas/g/noHFc60isioDBqglcxOAI8J6RyXlfdvID2FyrydEsnMtIXg9mhPWukkHF/dz8r+w6skinX1rjYJ4Hi9MECObtS33JVCiMJi8/zsQcJpbEAzHj0rQG1ZdAKokCoQzRz0RTaaPHd2Qvg7JbRTKBwpQI2CXW4U85IuGuV6iYOK/b5s96tNWT4hkt22JBdfLHdTa+0CDt1yQd9c/97nP4YXveMc7WHhx5V111VU8neE9kj6D0/Sfseozn/kMpDGUNb7FPSzEbw4PVnslRLTm20QT+jpHbqOHF+DRgDdwL3naaaeBQ7dtFaXwe2zIS+z8nJhtjE8zOyuMTSLBzlUPL/h5JLtJS5S1DtF02jMAGtw+lGFhxIfH3Nx4S3rgf1mecyEmzWBqY4WeZHb6lZt9eaTSacGcfE9alVMe5mMZ1n/+UB9akqvaN0ZzcCpeIdCvmqjUtB+Jas60WIALI6TBWxPxtFRblVYLLLFAjgavLrjEQvX/gCww8VBGHmoMqAG12nG3wIQLjsnLWuN+qoey//UNuqE8LWPWqLoWHLMTPnzdbW3Q8YSJB6Fsx8nWHpF42K8ESSrszuVAPbYR2Y/SUEASEZUbIlCOJNwq+iVuqVgmAQR5kCtHQ7pOj0pZT+x5a4exU2Ud0pCc87WEXKDNlGZIGNkc5IeM9tHCiDk9tms8SM9FaE06ZUuRTgr6SKw+J9HQm6/6aJpNJNFILBIeG0rcKhAjfYToE7nQpQlfJEBUSK0p5INyDwjqUfZ5PfmnRykbcnK+wWHsVBFrQs6FtdBZtiUSLjAk/0LSThupfbQwYqhHi5DgEXGByUs6VSjIo/6NN96Y0Ye+wCUh6XNs8V6lcb8WL6guyO4wyI1s6uOCOV6QRuRAvZwLempN3SgEBPUop8eTf3o0x8l5M4WxUxFrQs7lakk6K1xgjvxjh01apZCfNtL2UWHEUI8WIVFg8nynCgXZMibgHQL4BNH3SPgcW7xXaapL14LMSsxWhE7DBQXXK/OCbUE9O1aH1JoIhICgLatppnimM0ApzSlwciojiVzs1CbkXKEWz/NRnSf/yqSdbarCiKEeKzl//nwGLZuj6XKnkoKE8+LsUBYH4IyzSetzVHNvE6kLghXhf1x8TMSQglRW5gXxVOCAJHQppbhKtKE27ak1EQsBQdVAIqTrRKDMyVkludipXPEEs+N1EKgIyGFbRNOFWrgq5syZg8VgVebNmwdXSylP/pVJO61IEgIjhnqsZIHJK3cqKciOOYt10UwCF/Q5tt4epgMXZF3MsgxflGqEF2SJkKsVF+SCA2zR0KWeydPiQq2xOmSutwqB57hr0RzW10kkPASgVLhJYggkcL5KkuCGidCu6ugaWdXKaJqQgQsWLLj55puh9+SGSck55npMT1BXFbaJQi0Mb9zJsQFKQrlA5lxaJR9AeVRB2tE24q5CenNF0Qu+2ipsGj3AiOR4PVYsl27YKS3uI7H6HBXubSJ1QQLhcxGw/oMFkpra8oIe1MNqhYiollrTzoSAoB4lUaDrcpwcS/VFixZZJaR97FRGC5btPCPlw2+u4Bw4elKKr7laVBK7hVygCoSQnx7VhIURNbPTRMNOqdpZs2axGGVFwTUDp8xduc9R4d4mUhek7i222IKRj5tHJlk+OV7QtiMB9QpMnpRSak2qIDMEBPWorUvTepQhloUanySyqo98KmVt7NQCGpiQc7latD0kuPaECyTtyb8w7qot7mHEUI8tQho7JDmFTllJW9BHYvU5tmwP09MLa3Fnh2/ZrrZtOkgPb8tyDbSV9AI89eASYrz0h3qYM8Va8A8WITwQ7WGTeqWKrrFctufL5/SqLtHDzNN6NN1b1aLNvoLUUL8uihvKWzFGX/t1mtJTrIWrazj9D3P5rvmcnls1nYh7XkFVWC1QtkB1wbJ96tFpt0B1wWk3ca2gbIHqgmX71KPTboGJ2xHuSqa9nlpBtUDGAv8PboaT51BjOh4AAAAASUVORK5CYII=)"
      ],
      "metadata": {
        "id": "fDi4FDTXqPw3"
      }
    },
    {
      "cell_type": "markdown",
      "source": [
        "\n",
        "\n",
        "---\n",
        "\n"
      ],
      "metadata": {
        "id": "Lpp4XYcIjZTP"
      }
    },
    {
      "cell_type": "markdown",
      "source": [
        "<center><h1>Fórmulas</h1></center>\n",
        "\n",
        "<center><h2>P(A/B)</h2></center>\n",
        "\n",
        "<center><h2>P(A o B) = P(A) + P(B) - P(A y B)</h2></center>\n",
        "\n",
        "<center><h2>P(A y B) = P(A) * P(B|A)</h2></center>\n"
      ],
      "metadata": {
        "id": "iBIYSbLTjbVl"
      }
    },
    {
      "cell_type": "markdown",
      "source": [
        "\n",
        "\n",
        "---\n",
        "\n"
      ],
      "metadata": {
        "id": "eHwF5U6mlIEs"
      }
    },
    {
      "cell_type": "markdown",
      "source": [
        "<center><h2>Inicio Codigo</h2></center>"
      ],
      "metadata": {
        "id": "Gh9GDATujfrH"
      }
    },
    {
      "cell_type": "code",
      "execution_count": 1,
      "metadata": {
        "id": "FSFm2oNLi_A5"
      },
      "outputs": [],
      "source": [
        "# Cargo las librerias necesarias\n",
        "#--------------------------------------------------------------\n",
        "# Manejo de Datos\n",
        "import pandas as pd\n",
        "import numpy as np\n",
        "# Generador de gráficos\n",
        "import matplotlib.pyplot as plt\n",
        "from matplotlib import style\n",
        "import seaborn as sns\n",
        "# Procesamiento y análisis\n",
        "import statsmodels.api as sm\n",
        "import math\n",
        "from scipy import stats\n",
        "from scipy.stats import pearsonr\n",
        "# Configuracion para matplotlib\n",
        "plt.style.use('ggplot')\n",
        "#Warnings\n",
        "import warnings\n",
        "warnings.filterwarnings('ignore')"
      ]
    },
    {
      "cell_type": "code",
      "source": [
        "# Cargo la sabana de datos\n",
        "sabana = '/content/drive/MyDrive/Estadistica/ACA3/ACA3.xlsx'"
      ],
      "metadata": {
        "id": "qXTMOWjYqkBN"
      },
      "execution_count": 2,
      "outputs": []
    },
    {
      "cell_type": "code",
      "source": [
        "# Creo un dataframe por cada estrato\n",
        "\n",
        "df1 = pd.read_excel(sabana, sheet_name='ESTRATO1')\n",
        "E1 = pd.DataFrame(df1)\n",
        "df2 = pd.read_excel(sabana, sheet_name='ESTRATO2')\n",
        "E2 = pd.DataFrame(df2)\n",
        "df3 = pd.read_excel(sabana, sheet_name='ESTRATO3')\n",
        "E3 = pd.DataFrame(df3)"
      ],
      "metadata": {
        "id": "ACqz3ZJirGwa"
      },
      "execution_count": 3,
      "outputs": []
    },
    {
      "cell_type": "code",
      "source": [
        "# Valido el total de registros y variables\n",
        "E1.info(), E2.info(), E3.info()"
      ],
      "metadata": {
        "colab": {
          "base_uri": "https://localhost:8080/"
        },
        "id": "fGWuNYsCrk-n",
        "outputId": "ffcad035-bed6-4b6f-d608-66a995393c94"
      },
      "execution_count": 4,
      "outputs": [
        {
          "output_type": "stream",
          "name": "stdout",
          "text": [
            "<class 'pandas.core.frame.DataFrame'>\n",
            "RangeIndex: 517 entries, 0 to 516\n",
            "Data columns (total 9 columns):\n",
            " #   Column  Non-Null Count  Dtype\n",
            "---  ------  --------------  -----\n",
            " 0   NID     517 non-null    int64\n",
            " 1   PE      517 non-null    int64\n",
            " 2   ING     517 non-null    int64\n",
            " 3   AL      517 non-null    int64\n",
            " 4   AD      517 non-null    int64\n",
            " 5   V       517 non-null    int64\n",
            " 6   A       517 non-null    int64\n",
            " 7   O       517 non-null    int64\n",
            " 8   M       517 non-null    int64\n",
            "dtypes: int64(9)\n",
            "memory usage: 36.5 KB\n",
            "<class 'pandas.core.frame.DataFrame'>\n",
            "RangeIndex: 633 entries, 0 to 632\n",
            "Data columns (total 9 columns):\n",
            " #   Column  Non-Null Count  Dtype\n",
            "---  ------  --------------  -----\n",
            " 0   NID     633 non-null    int64\n",
            " 1   PE      633 non-null    int64\n",
            " 2   ING     633 non-null    int64\n",
            " 3   AL      633 non-null    int64\n",
            " 4   AD      633 non-null    int64\n",
            " 5   V       633 non-null    int64\n",
            " 6   A       633 non-null    int64\n",
            " 7   O       633 non-null    int64\n",
            " 8   M       633 non-null    int64\n",
            "dtypes: int64(9)\n",
            "memory usage: 44.6 KB\n",
            "<class 'pandas.core.frame.DataFrame'>\n",
            "RangeIndex: 350 entries, 0 to 349\n",
            "Data columns (total 9 columns):\n",
            " #   Column  Non-Null Count  Dtype\n",
            "---  ------  --------------  -----\n",
            " 0   NID     350 non-null    int64\n",
            " 1   PE      350 non-null    int64\n",
            " 2   ING     350 non-null    int64\n",
            " 3   AL      350 non-null    int64\n",
            " 4   AD      350 non-null    int64\n",
            " 5   V       350 non-null    int64\n",
            " 6   A       350 non-null    int64\n",
            " 7   O       350 non-null    int64\n",
            " 8   M       350 non-null    int64\n",
            "dtypes: int64(9)\n",
            "memory usage: 24.7 KB\n"
          ]
        },
        {
          "output_type": "execute_result",
          "data": {
            "text/plain": [
              "(None, None, None)"
            ]
          },
          "metadata": {},
          "execution_count": 4
        }
      ]
    },
    {
      "cell_type": "markdown",
      "source": [
        "\n",
        "\n",
        "---\n",
        "\n"
      ],
      "metadata": {
        "id": "1bQ7Kfiw6m8P"
      }
    },
    {
      "cell_type": "markdown",
      "source": [
        "<center><h3>Tableros para estratos |1 - 2 - 3|<h3></center>\n",
        "<p> PE ( Numero de personas en la familia)  como index <br> \n",
        "V ( Vivienda propia | 1=Si | 0=No | <br>\n",
        "A ( Tiene Automovil | 1=Si | 0=No | <br>\n",
        "O ( Tiene computador | 1=Si | 0=No | <br> </p>\n"
      ],
      "metadata": {
        "id": "pZaQE5815qUE"
      }
    },
    {
      "cell_type": "code",
      "source": [
        "# Genero los tableros para los Estratos\n",
        "# ESTRATO1\n",
        "Ve1 = pd.crosstab(index = E1['PE'], columns=E1['V'], margins=True )\n",
        "Ae1 = pd.crosstab(index = E1['PE'], columns=E1['A'], margins=True )\n",
        "Oe1 = pd.crosstab(index = E1['PE'], columns=E1['O'], margins=True )\n",
        "# ESTRATO2\n",
        "Ve2 = pd.crosstab(index = E2['PE'], columns=E2['V'], margins=True )\n",
        "Ae2 = pd.crosstab(index = E2['PE'], columns=E2['A'], margins=True )\n",
        "Oe2 = pd.crosstab(index = E2['PE'], columns=E2['O'], margins=True )\n",
        "# ESTRATO3\n",
        "Ve3 = pd.crosstab(index = E3['PE'], columns=E3['V'], margins=True )\n",
        "Ae3 = pd.crosstab(index = E3['PE'], columns=E3['A'], margins=True )\n",
        "Oe3 = pd.crosstab(index = E3['PE'], columns=E3['O'], margins=True )"
      ],
      "metadata": {
        "id": "fveE1dYVrmRI"
      },
      "execution_count": 5,
      "outputs": []
    },
    {
      "cell_type": "code",
      "source": [
        "tablaE1 = pd.concat([Ve1, Ae1, Oe1], axis=1, sort= False)\n",
        "tablaE2 = pd.concat([Ve2, Ae2, Oe2], axis=1, sort= False)\n",
        "tablaE3 = pd.concat([Ve3, Ae3, Oe3], axis=1, sort= False)"
      ],
      "metadata": {
        "id": "j_nR_DDlr3uK"
      },
      "execution_count": 6,
      "outputs": []
    },
    {
      "cell_type": "code",
      "source": [
        "print(\"ESTRATO 1\")\n",
        "print(\"PE | |   V   |    |   A   |    |   O   | \")\n",
        "tablaE1"
      ],
      "metadata": {
        "colab": {
          "base_uri": "https://localhost:8080/",
          "height": 336
        },
        "id": "zmbDGtv6r4n_",
        "outputId": "e3839ce7-00db-43c0-d6f2-300b666752a2"
      },
      "execution_count": 7,
      "outputs": [
        {
          "output_type": "stream",
          "name": "stdout",
          "text": [
            "ESTRATO 1\n",
            "PE | |   V   |    |   A   |    |   O   | \n"
          ]
        },
        {
          "output_type": "execute_result",
          "data": {
            "text/plain": [
              "       0    1  All    0    1  All    0   1  All\n",
              "PE                                             \n",
              "1     32   60   92   53   39   92   88   4   92\n",
              "2     50   73  123   72   51  123  108  15  123\n",
              "3     65   85  150   84   66  150  135  15  150\n",
              "4     37   62   99   66   33   99   87  12   99\n",
              "5     21   28   49   31   18   49   45   4   49\n",
              "6      2    2    4    3    1    4    3   1    4\n",
              "All  207  310  517  309  208  517  466  51  517"
            ],
            "text/html": [
              "\n",
              "  <div id=\"df-93fa74ac-c3e2-436f-83c8-f3da20e3f902\">\n",
              "    <div class=\"colab-df-container\">\n",
              "      <div>\n",
              "<style scoped>\n",
              "    .dataframe tbody tr th:only-of-type {\n",
              "        vertical-align: middle;\n",
              "    }\n",
              "\n",
              "    .dataframe tbody tr th {\n",
              "        vertical-align: top;\n",
              "    }\n",
              "\n",
              "    .dataframe thead th {\n",
              "        text-align: right;\n",
              "    }\n",
              "</style>\n",
              "<table border=\"1\" class=\"dataframe\">\n",
              "  <thead>\n",
              "    <tr style=\"text-align: right;\">\n",
              "      <th></th>\n",
              "      <th>0</th>\n",
              "      <th>1</th>\n",
              "      <th>All</th>\n",
              "      <th>0</th>\n",
              "      <th>1</th>\n",
              "      <th>All</th>\n",
              "      <th>0</th>\n",
              "      <th>1</th>\n",
              "      <th>All</th>\n",
              "    </tr>\n",
              "    <tr>\n",
              "      <th>PE</th>\n",
              "      <th></th>\n",
              "      <th></th>\n",
              "      <th></th>\n",
              "      <th></th>\n",
              "      <th></th>\n",
              "      <th></th>\n",
              "      <th></th>\n",
              "      <th></th>\n",
              "      <th></th>\n",
              "    </tr>\n",
              "  </thead>\n",
              "  <tbody>\n",
              "    <tr>\n",
              "      <th>1</th>\n",
              "      <td>32</td>\n",
              "      <td>60</td>\n",
              "      <td>92</td>\n",
              "      <td>53</td>\n",
              "      <td>39</td>\n",
              "      <td>92</td>\n",
              "      <td>88</td>\n",
              "      <td>4</td>\n",
              "      <td>92</td>\n",
              "    </tr>\n",
              "    <tr>\n",
              "      <th>2</th>\n",
              "      <td>50</td>\n",
              "      <td>73</td>\n",
              "      <td>123</td>\n",
              "      <td>72</td>\n",
              "      <td>51</td>\n",
              "      <td>123</td>\n",
              "      <td>108</td>\n",
              "      <td>15</td>\n",
              "      <td>123</td>\n",
              "    </tr>\n",
              "    <tr>\n",
              "      <th>3</th>\n",
              "      <td>65</td>\n",
              "      <td>85</td>\n",
              "      <td>150</td>\n",
              "      <td>84</td>\n",
              "      <td>66</td>\n",
              "      <td>150</td>\n",
              "      <td>135</td>\n",
              "      <td>15</td>\n",
              "      <td>150</td>\n",
              "    </tr>\n",
              "    <tr>\n",
              "      <th>4</th>\n",
              "      <td>37</td>\n",
              "      <td>62</td>\n",
              "      <td>99</td>\n",
              "      <td>66</td>\n",
              "      <td>33</td>\n",
              "      <td>99</td>\n",
              "      <td>87</td>\n",
              "      <td>12</td>\n",
              "      <td>99</td>\n",
              "    </tr>\n",
              "    <tr>\n",
              "      <th>5</th>\n",
              "      <td>21</td>\n",
              "      <td>28</td>\n",
              "      <td>49</td>\n",
              "      <td>31</td>\n",
              "      <td>18</td>\n",
              "      <td>49</td>\n",
              "      <td>45</td>\n",
              "      <td>4</td>\n",
              "      <td>49</td>\n",
              "    </tr>\n",
              "    <tr>\n",
              "      <th>6</th>\n",
              "      <td>2</td>\n",
              "      <td>2</td>\n",
              "      <td>4</td>\n",
              "      <td>3</td>\n",
              "      <td>1</td>\n",
              "      <td>4</td>\n",
              "      <td>3</td>\n",
              "      <td>1</td>\n",
              "      <td>4</td>\n",
              "    </tr>\n",
              "    <tr>\n",
              "      <th>All</th>\n",
              "      <td>207</td>\n",
              "      <td>310</td>\n",
              "      <td>517</td>\n",
              "      <td>309</td>\n",
              "      <td>208</td>\n",
              "      <td>517</td>\n",
              "      <td>466</td>\n",
              "      <td>51</td>\n",
              "      <td>517</td>\n",
              "    </tr>\n",
              "  </tbody>\n",
              "</table>\n",
              "</div>\n",
              "      <button class=\"colab-df-convert\" onclick=\"convertToInteractive('df-93fa74ac-c3e2-436f-83c8-f3da20e3f902')\"\n",
              "              title=\"Convert this dataframe to an interactive table.\"\n",
              "              style=\"display:none;\">\n",
              "        \n",
              "  <svg xmlns=\"http://www.w3.org/2000/svg\" height=\"24px\"viewBox=\"0 0 24 24\"\n",
              "       width=\"24px\">\n",
              "    <path d=\"M0 0h24v24H0V0z\" fill=\"none\"/>\n",
              "    <path d=\"M18.56 5.44l.94 2.06.94-2.06 2.06-.94-2.06-.94-.94-2.06-.94 2.06-2.06.94zm-11 1L8.5 8.5l.94-2.06 2.06-.94-2.06-.94L8.5 2.5l-.94 2.06-2.06.94zm10 10l.94 2.06.94-2.06 2.06-.94-2.06-.94-.94-2.06-.94 2.06-2.06.94z\"/><path d=\"M17.41 7.96l-1.37-1.37c-.4-.4-.92-.59-1.43-.59-.52 0-1.04.2-1.43.59L10.3 9.45l-7.72 7.72c-.78.78-.78 2.05 0 2.83L4 21.41c.39.39.9.59 1.41.59.51 0 1.02-.2 1.41-.59l7.78-7.78 2.81-2.81c.8-.78.8-2.07 0-2.86zM5.41 20L4 18.59l7.72-7.72 1.47 1.35L5.41 20z\"/>\n",
              "  </svg>\n",
              "      </button>\n",
              "      \n",
              "  <style>\n",
              "    .colab-df-container {\n",
              "      display:flex;\n",
              "      flex-wrap:wrap;\n",
              "      gap: 12px;\n",
              "    }\n",
              "\n",
              "    .colab-df-convert {\n",
              "      background-color: #E8F0FE;\n",
              "      border: none;\n",
              "      border-radius: 50%;\n",
              "      cursor: pointer;\n",
              "      display: none;\n",
              "      fill: #1967D2;\n",
              "      height: 32px;\n",
              "      padding: 0 0 0 0;\n",
              "      width: 32px;\n",
              "    }\n",
              "\n",
              "    .colab-df-convert:hover {\n",
              "      background-color: #E2EBFA;\n",
              "      box-shadow: 0px 1px 2px rgba(60, 64, 67, 0.3), 0px 1px 3px 1px rgba(60, 64, 67, 0.15);\n",
              "      fill: #174EA6;\n",
              "    }\n",
              "\n",
              "    [theme=dark] .colab-df-convert {\n",
              "      background-color: #3B4455;\n",
              "      fill: #D2E3FC;\n",
              "    }\n",
              "\n",
              "    [theme=dark] .colab-df-convert:hover {\n",
              "      background-color: #434B5C;\n",
              "      box-shadow: 0px 1px 3px 1px rgba(0, 0, 0, 0.15);\n",
              "      filter: drop-shadow(0px 1px 2px rgba(0, 0, 0, 0.3));\n",
              "      fill: #FFFFFF;\n",
              "    }\n",
              "  </style>\n",
              "\n",
              "      <script>\n",
              "        const buttonEl =\n",
              "          document.querySelector('#df-93fa74ac-c3e2-436f-83c8-f3da20e3f902 button.colab-df-convert');\n",
              "        buttonEl.style.display =\n",
              "          google.colab.kernel.accessAllowed ? 'block' : 'none';\n",
              "\n",
              "        async function convertToInteractive(key) {\n",
              "          const element = document.querySelector('#df-93fa74ac-c3e2-436f-83c8-f3da20e3f902');\n",
              "          const dataTable =\n",
              "            await google.colab.kernel.invokeFunction('convertToInteractive',\n",
              "                                                     [key], {});\n",
              "          if (!dataTable) return;\n",
              "\n",
              "          const docLinkHtml = 'Like what you see? Visit the ' +\n",
              "            '<a target=\"_blank\" href=https://colab.research.google.com/notebooks/data_table.ipynb>data table notebook</a>'\n",
              "            + ' to learn more about interactive tables.';\n",
              "          element.innerHTML = '';\n",
              "          dataTable['output_type'] = 'display_data';\n",
              "          await google.colab.output.renderOutput(dataTable, element);\n",
              "          const docLink = document.createElement('div');\n",
              "          docLink.innerHTML = docLinkHtml;\n",
              "          element.appendChild(docLink);\n",
              "        }\n",
              "      </script>\n",
              "    </div>\n",
              "  </div>\n",
              "  "
            ]
          },
          "metadata": {},
          "execution_count": 7
        }
      ]
    },
    {
      "cell_type": "code",
      "source": [
        "print(\"ESTRATO 2\")\n",
        "print(\"PE | |   V   |    |   A   |    |   O   | \")\n",
        "tablaE2"
      ],
      "metadata": {
        "colab": {
          "base_uri": "https://localhost:8080/",
          "height": 336
        },
        "id": "e6jw95Z9z5tl",
        "outputId": "4c26c5d5-6e10-43d8-d305-e646c7600f58"
      },
      "execution_count": 8,
      "outputs": [
        {
          "output_type": "stream",
          "name": "stdout",
          "text": [
            "ESTRATO 2\n",
            "PE | |   V   |    |   A   |    |   O   | \n"
          ]
        },
        {
          "output_type": "execute_result",
          "data": {
            "text/plain": [
              "       0    1  All    0    1  All    0   1  All\n",
              "PE                                             \n",
              "1     44   74  118   58   60  118  110   8  118\n",
              "2     57  118  175  111   64  175  151  24  175\n",
              "3     64   98  162  105   57  162  144  18  162\n",
              "4     45   80  125   80   45  125  111  14  125\n",
              "5     17   29   46   28   18   46   44   2   46\n",
              "6      2    5    7    5    2    7    6   1    7\n",
              "All  229  404  633  387  246  633  566  67  633"
            ],
            "text/html": [
              "\n",
              "  <div id=\"df-03d53ba0-becc-47c8-a7d0-9c1b64a5aa57\">\n",
              "    <div class=\"colab-df-container\">\n",
              "      <div>\n",
              "<style scoped>\n",
              "    .dataframe tbody tr th:only-of-type {\n",
              "        vertical-align: middle;\n",
              "    }\n",
              "\n",
              "    .dataframe tbody tr th {\n",
              "        vertical-align: top;\n",
              "    }\n",
              "\n",
              "    .dataframe thead th {\n",
              "        text-align: right;\n",
              "    }\n",
              "</style>\n",
              "<table border=\"1\" class=\"dataframe\">\n",
              "  <thead>\n",
              "    <tr style=\"text-align: right;\">\n",
              "      <th></th>\n",
              "      <th>0</th>\n",
              "      <th>1</th>\n",
              "      <th>All</th>\n",
              "      <th>0</th>\n",
              "      <th>1</th>\n",
              "      <th>All</th>\n",
              "      <th>0</th>\n",
              "      <th>1</th>\n",
              "      <th>All</th>\n",
              "    </tr>\n",
              "    <tr>\n",
              "      <th>PE</th>\n",
              "      <th></th>\n",
              "      <th></th>\n",
              "      <th></th>\n",
              "      <th></th>\n",
              "      <th></th>\n",
              "      <th></th>\n",
              "      <th></th>\n",
              "      <th></th>\n",
              "      <th></th>\n",
              "    </tr>\n",
              "  </thead>\n",
              "  <tbody>\n",
              "    <tr>\n",
              "      <th>1</th>\n",
              "      <td>44</td>\n",
              "      <td>74</td>\n",
              "      <td>118</td>\n",
              "      <td>58</td>\n",
              "      <td>60</td>\n",
              "      <td>118</td>\n",
              "      <td>110</td>\n",
              "      <td>8</td>\n",
              "      <td>118</td>\n",
              "    </tr>\n",
              "    <tr>\n",
              "      <th>2</th>\n",
              "      <td>57</td>\n",
              "      <td>118</td>\n",
              "      <td>175</td>\n",
              "      <td>111</td>\n",
              "      <td>64</td>\n",
              "      <td>175</td>\n",
              "      <td>151</td>\n",
              "      <td>24</td>\n",
              "      <td>175</td>\n",
              "    </tr>\n",
              "    <tr>\n",
              "      <th>3</th>\n",
              "      <td>64</td>\n",
              "      <td>98</td>\n",
              "      <td>162</td>\n",
              "      <td>105</td>\n",
              "      <td>57</td>\n",
              "      <td>162</td>\n",
              "      <td>144</td>\n",
              "      <td>18</td>\n",
              "      <td>162</td>\n",
              "    </tr>\n",
              "    <tr>\n",
              "      <th>4</th>\n",
              "      <td>45</td>\n",
              "      <td>80</td>\n",
              "      <td>125</td>\n",
              "      <td>80</td>\n",
              "      <td>45</td>\n",
              "      <td>125</td>\n",
              "      <td>111</td>\n",
              "      <td>14</td>\n",
              "      <td>125</td>\n",
              "    </tr>\n",
              "    <tr>\n",
              "      <th>5</th>\n",
              "      <td>17</td>\n",
              "      <td>29</td>\n",
              "      <td>46</td>\n",
              "      <td>28</td>\n",
              "      <td>18</td>\n",
              "      <td>46</td>\n",
              "      <td>44</td>\n",
              "      <td>2</td>\n",
              "      <td>46</td>\n",
              "    </tr>\n",
              "    <tr>\n",
              "      <th>6</th>\n",
              "      <td>2</td>\n",
              "      <td>5</td>\n",
              "      <td>7</td>\n",
              "      <td>5</td>\n",
              "      <td>2</td>\n",
              "      <td>7</td>\n",
              "      <td>6</td>\n",
              "      <td>1</td>\n",
              "      <td>7</td>\n",
              "    </tr>\n",
              "    <tr>\n",
              "      <th>All</th>\n",
              "      <td>229</td>\n",
              "      <td>404</td>\n",
              "      <td>633</td>\n",
              "      <td>387</td>\n",
              "      <td>246</td>\n",
              "      <td>633</td>\n",
              "      <td>566</td>\n",
              "      <td>67</td>\n",
              "      <td>633</td>\n",
              "    </tr>\n",
              "  </tbody>\n",
              "</table>\n",
              "</div>\n",
              "      <button class=\"colab-df-convert\" onclick=\"convertToInteractive('df-03d53ba0-becc-47c8-a7d0-9c1b64a5aa57')\"\n",
              "              title=\"Convert this dataframe to an interactive table.\"\n",
              "              style=\"display:none;\">\n",
              "        \n",
              "  <svg xmlns=\"http://www.w3.org/2000/svg\" height=\"24px\"viewBox=\"0 0 24 24\"\n",
              "       width=\"24px\">\n",
              "    <path d=\"M0 0h24v24H0V0z\" fill=\"none\"/>\n",
              "    <path d=\"M18.56 5.44l.94 2.06.94-2.06 2.06-.94-2.06-.94-.94-2.06-.94 2.06-2.06.94zm-11 1L8.5 8.5l.94-2.06 2.06-.94-2.06-.94L8.5 2.5l-.94 2.06-2.06.94zm10 10l.94 2.06.94-2.06 2.06-.94-2.06-.94-.94-2.06-.94 2.06-2.06.94z\"/><path d=\"M17.41 7.96l-1.37-1.37c-.4-.4-.92-.59-1.43-.59-.52 0-1.04.2-1.43.59L10.3 9.45l-7.72 7.72c-.78.78-.78 2.05 0 2.83L4 21.41c.39.39.9.59 1.41.59.51 0 1.02-.2 1.41-.59l7.78-7.78 2.81-2.81c.8-.78.8-2.07 0-2.86zM5.41 20L4 18.59l7.72-7.72 1.47 1.35L5.41 20z\"/>\n",
              "  </svg>\n",
              "      </button>\n",
              "      \n",
              "  <style>\n",
              "    .colab-df-container {\n",
              "      display:flex;\n",
              "      flex-wrap:wrap;\n",
              "      gap: 12px;\n",
              "    }\n",
              "\n",
              "    .colab-df-convert {\n",
              "      background-color: #E8F0FE;\n",
              "      border: none;\n",
              "      border-radius: 50%;\n",
              "      cursor: pointer;\n",
              "      display: none;\n",
              "      fill: #1967D2;\n",
              "      height: 32px;\n",
              "      padding: 0 0 0 0;\n",
              "      width: 32px;\n",
              "    }\n",
              "\n",
              "    .colab-df-convert:hover {\n",
              "      background-color: #E2EBFA;\n",
              "      box-shadow: 0px 1px 2px rgba(60, 64, 67, 0.3), 0px 1px 3px 1px rgba(60, 64, 67, 0.15);\n",
              "      fill: #174EA6;\n",
              "    }\n",
              "\n",
              "    [theme=dark] .colab-df-convert {\n",
              "      background-color: #3B4455;\n",
              "      fill: #D2E3FC;\n",
              "    }\n",
              "\n",
              "    [theme=dark] .colab-df-convert:hover {\n",
              "      background-color: #434B5C;\n",
              "      box-shadow: 0px 1px 3px 1px rgba(0, 0, 0, 0.15);\n",
              "      filter: drop-shadow(0px 1px 2px rgba(0, 0, 0, 0.3));\n",
              "      fill: #FFFFFF;\n",
              "    }\n",
              "  </style>\n",
              "\n",
              "      <script>\n",
              "        const buttonEl =\n",
              "          document.querySelector('#df-03d53ba0-becc-47c8-a7d0-9c1b64a5aa57 button.colab-df-convert');\n",
              "        buttonEl.style.display =\n",
              "          google.colab.kernel.accessAllowed ? 'block' : 'none';\n",
              "\n",
              "        async function convertToInteractive(key) {\n",
              "          const element = document.querySelector('#df-03d53ba0-becc-47c8-a7d0-9c1b64a5aa57');\n",
              "          const dataTable =\n",
              "            await google.colab.kernel.invokeFunction('convertToInteractive',\n",
              "                                                     [key], {});\n",
              "          if (!dataTable) return;\n",
              "\n",
              "          const docLinkHtml = 'Like what you see? Visit the ' +\n",
              "            '<a target=\"_blank\" href=https://colab.research.google.com/notebooks/data_table.ipynb>data table notebook</a>'\n",
              "            + ' to learn more about interactive tables.';\n",
              "          element.innerHTML = '';\n",
              "          dataTable['output_type'] = 'display_data';\n",
              "          await google.colab.output.renderOutput(dataTable, element);\n",
              "          const docLink = document.createElement('div');\n",
              "          docLink.innerHTML = docLinkHtml;\n",
              "          element.appendChild(docLink);\n",
              "        }\n",
              "      </script>\n",
              "    </div>\n",
              "  </div>\n",
              "  "
            ]
          },
          "metadata": {},
          "execution_count": 8
        }
      ]
    },
    {
      "cell_type": "code",
      "source": [
        "print(\"ESTRATO 3\")\n",
        "print(\"PE | |   V   |    |   A   |    |   O   | \")\n",
        "tablaE3"
      ],
      "metadata": {
        "colab": {
          "base_uri": "https://localhost:8080/",
          "height": 336
        },
        "id": "XsavpxIvz72r",
        "outputId": "1cf7701e-1257-4bed-e50d-338eb697cf47"
      },
      "execution_count": 9,
      "outputs": [
        {
          "output_type": "stream",
          "name": "stdout",
          "text": [
            "ESTRATO 3\n",
            "PE | |   V   |    |   A   |    |   O   | \n"
          ]
        },
        {
          "output_type": "execute_result",
          "data": {
            "text/plain": [
              "       0    1  All    0    1  All    0   1  All\n",
              "PE                                             \n",
              "1     18   49   67   45   22   67   60   7   67\n",
              "2     33   55   88   44   44   88   79   9   88\n",
              "3     33   36   69   35   34   69   62   7   69\n",
              "4     36   55   91   53   38   91   79  12   91\n",
              "5      5   23   28   18   10   28   24   4   28\n",
              "6      1    6    7    4    3    7    7   0    7\n",
              "All  126  224  350  199  151  350  311  39  350"
            ],
            "text/html": [
              "\n",
              "  <div id=\"df-5a2f2ac3-f540-41a0-924b-9b071e8d1e11\">\n",
              "    <div class=\"colab-df-container\">\n",
              "      <div>\n",
              "<style scoped>\n",
              "    .dataframe tbody tr th:only-of-type {\n",
              "        vertical-align: middle;\n",
              "    }\n",
              "\n",
              "    .dataframe tbody tr th {\n",
              "        vertical-align: top;\n",
              "    }\n",
              "\n",
              "    .dataframe thead th {\n",
              "        text-align: right;\n",
              "    }\n",
              "</style>\n",
              "<table border=\"1\" class=\"dataframe\">\n",
              "  <thead>\n",
              "    <tr style=\"text-align: right;\">\n",
              "      <th></th>\n",
              "      <th>0</th>\n",
              "      <th>1</th>\n",
              "      <th>All</th>\n",
              "      <th>0</th>\n",
              "      <th>1</th>\n",
              "      <th>All</th>\n",
              "      <th>0</th>\n",
              "      <th>1</th>\n",
              "      <th>All</th>\n",
              "    </tr>\n",
              "    <tr>\n",
              "      <th>PE</th>\n",
              "      <th></th>\n",
              "      <th></th>\n",
              "      <th></th>\n",
              "      <th></th>\n",
              "      <th></th>\n",
              "      <th></th>\n",
              "      <th></th>\n",
              "      <th></th>\n",
              "      <th></th>\n",
              "    </tr>\n",
              "  </thead>\n",
              "  <tbody>\n",
              "    <tr>\n",
              "      <th>1</th>\n",
              "      <td>18</td>\n",
              "      <td>49</td>\n",
              "      <td>67</td>\n",
              "      <td>45</td>\n",
              "      <td>22</td>\n",
              "      <td>67</td>\n",
              "      <td>60</td>\n",
              "      <td>7</td>\n",
              "      <td>67</td>\n",
              "    </tr>\n",
              "    <tr>\n",
              "      <th>2</th>\n",
              "      <td>33</td>\n",
              "      <td>55</td>\n",
              "      <td>88</td>\n",
              "      <td>44</td>\n",
              "      <td>44</td>\n",
              "      <td>88</td>\n",
              "      <td>79</td>\n",
              "      <td>9</td>\n",
              "      <td>88</td>\n",
              "    </tr>\n",
              "    <tr>\n",
              "      <th>3</th>\n",
              "      <td>33</td>\n",
              "      <td>36</td>\n",
              "      <td>69</td>\n",
              "      <td>35</td>\n",
              "      <td>34</td>\n",
              "      <td>69</td>\n",
              "      <td>62</td>\n",
              "      <td>7</td>\n",
              "      <td>69</td>\n",
              "    </tr>\n",
              "    <tr>\n",
              "      <th>4</th>\n",
              "      <td>36</td>\n",
              "      <td>55</td>\n",
              "      <td>91</td>\n",
              "      <td>53</td>\n",
              "      <td>38</td>\n",
              "      <td>91</td>\n",
              "      <td>79</td>\n",
              "      <td>12</td>\n",
              "      <td>91</td>\n",
              "    </tr>\n",
              "    <tr>\n",
              "      <th>5</th>\n",
              "      <td>5</td>\n",
              "      <td>23</td>\n",
              "      <td>28</td>\n",
              "      <td>18</td>\n",
              "      <td>10</td>\n",
              "      <td>28</td>\n",
              "      <td>24</td>\n",
              "      <td>4</td>\n",
              "      <td>28</td>\n",
              "    </tr>\n",
              "    <tr>\n",
              "      <th>6</th>\n",
              "      <td>1</td>\n",
              "      <td>6</td>\n",
              "      <td>7</td>\n",
              "      <td>4</td>\n",
              "      <td>3</td>\n",
              "      <td>7</td>\n",
              "      <td>7</td>\n",
              "      <td>0</td>\n",
              "      <td>7</td>\n",
              "    </tr>\n",
              "    <tr>\n",
              "      <th>All</th>\n",
              "      <td>126</td>\n",
              "      <td>224</td>\n",
              "      <td>350</td>\n",
              "      <td>199</td>\n",
              "      <td>151</td>\n",
              "      <td>350</td>\n",
              "      <td>311</td>\n",
              "      <td>39</td>\n",
              "      <td>350</td>\n",
              "    </tr>\n",
              "  </tbody>\n",
              "</table>\n",
              "</div>\n",
              "      <button class=\"colab-df-convert\" onclick=\"convertToInteractive('df-5a2f2ac3-f540-41a0-924b-9b071e8d1e11')\"\n",
              "              title=\"Convert this dataframe to an interactive table.\"\n",
              "              style=\"display:none;\">\n",
              "        \n",
              "  <svg xmlns=\"http://www.w3.org/2000/svg\" height=\"24px\"viewBox=\"0 0 24 24\"\n",
              "       width=\"24px\">\n",
              "    <path d=\"M0 0h24v24H0V0z\" fill=\"none\"/>\n",
              "    <path d=\"M18.56 5.44l.94 2.06.94-2.06 2.06-.94-2.06-.94-.94-2.06-.94 2.06-2.06.94zm-11 1L8.5 8.5l.94-2.06 2.06-.94-2.06-.94L8.5 2.5l-.94 2.06-2.06.94zm10 10l.94 2.06.94-2.06 2.06-.94-2.06-.94-.94-2.06-.94 2.06-2.06.94z\"/><path d=\"M17.41 7.96l-1.37-1.37c-.4-.4-.92-.59-1.43-.59-.52 0-1.04.2-1.43.59L10.3 9.45l-7.72 7.72c-.78.78-.78 2.05 0 2.83L4 21.41c.39.39.9.59 1.41.59.51 0 1.02-.2 1.41-.59l7.78-7.78 2.81-2.81c.8-.78.8-2.07 0-2.86zM5.41 20L4 18.59l7.72-7.72 1.47 1.35L5.41 20z\"/>\n",
              "  </svg>\n",
              "      </button>\n",
              "      \n",
              "  <style>\n",
              "    .colab-df-container {\n",
              "      display:flex;\n",
              "      flex-wrap:wrap;\n",
              "      gap: 12px;\n",
              "    }\n",
              "\n",
              "    .colab-df-convert {\n",
              "      background-color: #E8F0FE;\n",
              "      border: none;\n",
              "      border-radius: 50%;\n",
              "      cursor: pointer;\n",
              "      display: none;\n",
              "      fill: #1967D2;\n",
              "      height: 32px;\n",
              "      padding: 0 0 0 0;\n",
              "      width: 32px;\n",
              "    }\n",
              "\n",
              "    .colab-df-convert:hover {\n",
              "      background-color: #E2EBFA;\n",
              "      box-shadow: 0px 1px 2px rgba(60, 64, 67, 0.3), 0px 1px 3px 1px rgba(60, 64, 67, 0.15);\n",
              "      fill: #174EA6;\n",
              "    }\n",
              "\n",
              "    [theme=dark] .colab-df-convert {\n",
              "      background-color: #3B4455;\n",
              "      fill: #D2E3FC;\n",
              "    }\n",
              "\n",
              "    [theme=dark] .colab-df-convert:hover {\n",
              "      background-color: #434B5C;\n",
              "      box-shadow: 0px 1px 3px 1px rgba(0, 0, 0, 0.15);\n",
              "      filter: drop-shadow(0px 1px 2px rgba(0, 0, 0, 0.3));\n",
              "      fill: #FFFFFF;\n",
              "    }\n",
              "  </style>\n",
              "\n",
              "      <script>\n",
              "        const buttonEl =\n",
              "          document.querySelector('#df-5a2f2ac3-f540-41a0-924b-9b071e8d1e11 button.colab-df-convert');\n",
              "        buttonEl.style.display =\n",
              "          google.colab.kernel.accessAllowed ? 'block' : 'none';\n",
              "\n",
              "        async function convertToInteractive(key) {\n",
              "          const element = document.querySelector('#df-5a2f2ac3-f540-41a0-924b-9b071e8d1e11');\n",
              "          const dataTable =\n",
              "            await google.colab.kernel.invokeFunction('convertToInteractive',\n",
              "                                                     [key], {});\n",
              "          if (!dataTable) return;\n",
              "\n",
              "          const docLinkHtml = 'Like what you see? Visit the ' +\n",
              "            '<a target=\"_blank\" href=https://colab.research.google.com/notebooks/data_table.ipynb>data table notebook</a>'\n",
              "            + ' to learn more about interactive tables.';\n",
              "          element.innerHTML = '';\n",
              "          dataTable['output_type'] = 'display_data';\n",
              "          await google.colab.output.renderOutput(dataTable, element);\n",
              "          const docLink = document.createElement('div');\n",
              "          docLink.innerHTML = docLinkHtml;\n",
              "          element.appendChild(docLink);\n",
              "        }\n",
              "      </script>\n",
              "    </div>\n",
              "  </div>\n",
              "  "
            ]
          },
          "metadata": {},
          "execution_count": 9
        }
      ]
    },
    {
      "cell_type": "markdown",
      "source": [
        "\n",
        "\n",
        "---\n",
        "\n"
      ],
      "metadata": {
        "id": "CCMEUfxH8nzk"
      }
    },
    {
      "cell_type": "markdown",
      "source": [
        "<center><h2>Preguntas</h2></center>"
      ],
      "metadata": {
        "id": "CrRMXDmb8pVy"
      }
    },
    {
      "cell_type": "markdown",
      "source": [
        "\n",
        "\n",
        "---\n",
        "\n"
      ],
      "metadata": {
        "id": "IvsNxERILn65"
      }
    },
    {
      "cell_type": "markdown",
      "source": [
        "<center><h2>Condicionada</h2></center>\n",
        "\n",
        "1. Que probabilidad hay que en una familia de 3 persona tengan computador en Estrato 1\n",
        "2. Que probabilida hay que en una familia de 6 personas en el Estrato 2 tenga Casa propia\n",
        "3. Que probabilidad hay que en el Estrato 3 una familia de 2 personas tengan Automovil\n",
        "4. Sabiendo que tiene casa, Cual es la probabilidad de que una familia tenga 2 integrantes en Estrato 3"
      ],
      "metadata": {
        "id": "VWfmFkoq7fQI"
      }
    },
    {
      "cell_type": "code",
      "source": [
        "r1 = tablaE1.iloc[2,7] / tablaE1.iloc[2,8] \n",
        "r2 = tablaE2.iloc[5,1] / tablaE2.iloc[5,2] \n",
        "r3 = tablaE3.iloc[1,4] / tablaE3.iloc[1,5] \n",
        "r4 = tablaE3.iloc[1,1] / tablaE3.iloc[1,2]"
      ],
      "metadata": {
        "id": "iDyLKz8E7IP4"
      },
      "execution_count": 10,
      "outputs": []
    },
    {
      "cell_type": "code",
      "source": [
        "print(\"La probabilidad de que una familia de 3 personas tenga computador en Estrato 1 es:\",r1)\n",
        "print(\"La probabilida que en una familia de 6 personas en el Estrato 2 tenga Casa propia es:\",r2)\n",
        "print(\"La probabilidad que en el Estrato 3 una familia de 2 personas tengan Automovil es:\",r3)\n",
        "print(\"Teniendo Casa, la probabilidad de que una familia tenga 2 integrantes en Estrato 3:\",r4)"
      ],
      "metadata": {
        "colab": {
          "base_uri": "https://localhost:8080/"
        },
        "id": "5pZx9Gs6Aqa1",
        "outputId": "733e0955-5cd9-4957-bdef-9ca8860d476b"
      },
      "execution_count": 11,
      "outputs": [
        {
          "output_type": "stream",
          "name": "stdout",
          "text": [
            "La probabilidad de que una familia de 3 personas tenga computador en Estrato 1 es: 0.1\n",
            "La probabilida que en una familia de 6 personas en el Estrato 2 tenga Casa propia es: 0.7142857142857143\n",
            "La probabilidad que en el Estrato 3 una familia de 2 personas tengan Automovil es: 0.5\n",
            "Teniendo Casa, la probabilidad de que una familia tenga 2 integrantes en Estrato 3: 0.625\n"
          ]
        }
      ]
    },
    {
      "cell_type": "markdown",
      "source": [
        "\n",
        "\n",
        "---\n",
        "\n"
      ],
      "metadata": {
        "id": "A_KVxskBxbN0"
      }
    },
    {
      "cell_type": "markdown",
      "source": [
        "<center><h2>A o B</h2></center>\n",
        "\n",
        "\n",
        "1.   En una familia de 5 personas en Estrato 2, cual es la probabilidad de que tenga Casa o Computador\n",
        "2.   En Estrato 1 la familia de 6 personas cual es la probabilidad de que tenga Automovil o Casa\n",
        "3. Una familia de 2 personas en Estrato 3, que probabilidad hay de que tengan Computador o Automovil\n",
        "\n"
      ],
      "metadata": {
        "id": "Rg4iCQ5hxcji"
      }
    },
    {
      "cell_type": "code",
      "source": [
        "r1 = (((tablaE2.iloc[4,1] / tablaE2.iloc[4,2]) + (tablaE2.iloc[4,7] / tablaE2.iloc[4,8])) - (tablaE2.iloc[4,1] / tablaE2.iloc[6,7]))\n",
        "r2 = (((tablaE1.iloc[5,4] / tablaE1.iloc[5,5]) + (tablaE1.iloc[5,1] / tablaE1.iloc[5,2])) - (tablaE1.iloc[5,4] / tablaE1.iloc[6,1])) \n",
        "r3 = (((tablaE3.iloc[1,7] / tablaE3.iloc[1,8]) + (tablaE3.iloc[1,4] / tablaE3.iloc[1,5])) - (tablaE3.iloc[1,7] / tablaE3.iloc[6,4]))"
      ],
      "metadata": {
        "id": "WpiPPMwXLi-o"
      },
      "execution_count": 12,
      "outputs": []
    },
    {
      "cell_type": "markdown",
      "source": [],
      "metadata": {
        "id": "FIkYdLofxeR1"
      }
    },
    {
      "cell_type": "code",
      "source": [
        "print(\"La familia de 5 personas en Estrato 2,la probabilidad de que tenga Casa o Computador es:\",r1)\n",
        "print(\"En Estrato 1 la familia de 6 personas la probabilidad de que tenga Automovil o Casa es:\",r2)\n",
        "print(\"Una familia de 2 personas en Estrato 3, la probabilidad de que tengan Computador o Automovil es:\",r3)"
      ],
      "metadata": {
        "id": "i2EPIj6NAr8x",
        "colab": {
          "base_uri": "https://localhost:8080/"
        },
        "outputId": "502d214c-8f25-4892-ce51-dfa33042b5ce"
      },
      "execution_count": 13,
      "outputs": [
        {
          "output_type": "stream",
          "name": "stdout",
          "text": [
            "La familia de 5 personas en Estrato 2,la probabilidad de que tenga Casa o Computador es: 0.2410772225827385\n",
            "En Estrato 1 la familia de 6 personas la probabilidad de que tenga Automovil o Casa es: 0.7467741935483871\n",
            "Una familia de 2 personas en Estrato 3, la probabilidad de que tengan Computador o Automovil es: 0.5426700782661048\n"
          ]
        }
      ]
    },
    {
      "cell_type": "markdown",
      "source": [
        "\n",
        "\n",
        "---\n",
        "\n"
      ],
      "metadata": {
        "id": "7RtE8U3Kd0BO"
      }
    },
    {
      "cell_type": "markdown",
      "source": [
        "<center><h2>A y B</h2></center>\n",
        "\n",
        "\n",
        "1.   La probabilidad de que la familia de 4 integrantes en Estrato 1 tenga Computador y Casa \n",
        "2.  La probabilidad de que la familia de 6 integrantes en Estrato 2 tenga Casa y Automovil\n",
        "3. La probabilidad de que la familia de 1 integrante en Estrato 3 tenga Automovil y Computador"
      ],
      "metadata": {
        "id": "39QblUvbd09Q"
      }
    },
    {
      "cell_type": "code",
      "source": [
        "r1 = tablaE1.iloc[3,7] / tablaE1.iloc[6,1]\n",
        "r2 = tablaE2.iloc[5,1] / tablaE2.iloc[6,4]\n",
        "r3 = tablaE3.iloc[0,4] / tablaE3.iloc[6,7]"
      ],
      "metadata": {
        "id": "Rnxs_p_Yer9s"
      },
      "execution_count": 14,
      "outputs": []
    },
    {
      "cell_type": "code",
      "source": [
        "print(\"La probabilidad de que una familia de 4 integrantes en Estrato 1 tenga Computador y Casa es:\",r1)\n",
        "print(\"La probabilidad de que una familia de 6 integrantes en Estrato 2 tenga Casa y Automovil es:\",r2)\n",
        "print(\"La probabilidad de que una familia de 1 integrante en Estrato 3 tenga Automovil y Computador es:\",r3)"
      ],
      "metadata": {
        "colab": {
          "base_uri": "https://localhost:8080/"
        },
        "id": "qfERWrSigZzJ",
        "outputId": "0b292771-49ba-413a-94fd-465faffd8b9b"
      },
      "execution_count": 15,
      "outputs": [
        {
          "output_type": "stream",
          "name": "stdout",
          "text": [
            "La probabilidad de que una familia de 4 integrantes en Estrato 1 tenga Computador y Casa es: 0.03870967741935484\n",
            "La probabilidad de que una familia de 6 integrantes en Estrato 2 tenga Casa y Automovil es: 0.02032520325203252\n",
            "La probabilidad de que una familia de 1 integrante en Estrato 3 tenga Automovil y Computador es: 0.5641025641025641\n"
          ]
        }
      ]
    }
  ]
}