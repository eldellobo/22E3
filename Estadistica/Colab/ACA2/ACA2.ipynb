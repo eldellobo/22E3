{
  "nbformat": 4,
  "nbformat_minor": 0,
  "metadata": {
    "colab": {
      "provenance": [],
      "collapsed_sections": [],
      "mount_file_id": "1H7SWk8oYQNljOrWhTDbiw76aL8jhcOm4",
      "authorship_tag": "ABX9TyOhU6XJ+O9cGAhMAYY26OIU",
      "include_colab_link": true
    },
    "kernelspec": {
      "name": "python3",
      "display_name": "Python 3"
    },
    "language_info": {
      "name": "python"
    }
  },
  "cells": [
    {
      "cell_type": "markdown",
      "metadata": {
        "id": "view-in-github",
        "colab_type": "text"
      },
      "source": [
        "<a href=\"https://colab.research.google.com/github/eldellobo/22E3/blob/main/Estadistica/Colab/ACA2/ACA2.ipynb\" target=\"_parent\"><img src=\"https://colab.research.google.com/assets/colab-badge.svg\" alt=\"Open In Colab\"/></a>"
      ]
    },
    {
      "cell_type": "markdown",
      "source": [
        "# **ACA 2**"
      ],
      "metadata": {
        "id": "a4NSmIi7LQ3W"
      }
    },
    {
      "cell_type": "code",
      "execution_count": 1,
      "metadata": {
        "id": "9qZrSuC0LJgy"
      },
      "outputs": [],
      "source": [
        "# Cargo las librerias necesarias\n",
        "#--------------------------------------------------------------\n",
        "# Manejo de Datos\n",
        "import pandas as pd\n",
        "import numpy as np\n",
        "# Generador de gráficos\n",
        "import matplotlib.pyplot as plt\n",
        "from matplotlib import style\n",
        "import seaborn as sns\n",
        "# Procesamiento y análisis\n",
        "import statsmodels.api as sm\n",
        "import math\n",
        "from scipy import stats\n",
        "from scipy.stats import pearsonr\n",
        "# Configuracion para matplotlib\n",
        "plt.style.use('ggplot')\n",
        "#Warnings\n",
        "import warnings\n",
        "warnings.filterwarnings('ignore')"
      ]
    },
    {
      "cell_type": "code",
      "source": [
        "# Cargo la sabana de datos\n",
        "sabana = pd.read_excel('/content/drive/MyDrive/CUN-Estadistica/ACA2/1500hogares.xlsx')"
      ],
      "metadata": {
        "id": "5egZDaO_LeJj"
      },
      "execution_count": 2,
      "outputs": []
    },
    {
      "cell_type": "code",
      "source": [
        "# Valido las variables de la sabana\n",
        "sabana.info()"
      ],
      "metadata": {
        "colab": {
          "base_uri": "https://localhost:8080/"
        },
        "id": "72qhMySUMLWk",
        "outputId": "0769cb3a-98dd-4ce3-fda3-380b5a9ee11d"
      },
      "execution_count": 3,
      "outputs": [
        {
          "output_type": "stream",
          "name": "stdout",
          "text": [
            "<class 'pandas.core.frame.DataFrame'>\n",
            "RangeIndex: 1500 entries, 0 to 1499\n",
            "Data columns (total 9 columns):\n",
            " #   Column  Non-Null Count  Dtype\n",
            "---  ------  --------------  -----\n",
            " 0   NID     1500 non-null   int64\n",
            " 1   PE      1500 non-null   int64\n",
            " 2   ING     1500 non-null   int64\n",
            " 3   AL      1500 non-null   int64\n",
            " 4   AD      1500 non-null   int64\n",
            " 5   V       1500 non-null   int64\n",
            " 6   A       1500 non-null   int64\n",
            " 7   O       1500 non-null   int64\n",
            " 8   M       1500 non-null   int64\n",
            "dtypes: int64(9)\n",
            "memory usage: 105.6 KB\n"
          ]
        }
      ]
    },
    {
      "cell_type": "code",
      "source": [
        "# Convierto en dataframe\n",
        "\n",
        "h1500 = pd.DataFrame(sabana)"
      ],
      "metadata": {
        "id": "pB1-i7-eMO-6"
      },
      "execution_count": 4,
      "outputs": []
    },
    {
      "cell_type": "code",
      "source": [
        "# Tomo una muestra aleatoria de 150 registros y los bloqueo para poder trabajarlos a reiniciar el runtime\n",
        "h150 = h1500.sample(n=150, random_state=1)"
      ],
      "metadata": {
        "id": "GDjIF-IQMWyb"
      },
      "execution_count": 5,
      "outputs": []
    },
    {
      "cell_type": "code",
      "source": [
        "# Valido la muestra aleatoria de los 150 registros\n",
        "h150.info()"
      ],
      "metadata": {
        "colab": {
          "base_uri": "https://localhost:8080/"
        },
        "id": "DsgMQbajNF2x",
        "outputId": "a9f8669f-d6e0-4699-b094-e481cae5f939"
      },
      "execution_count": 6,
      "outputs": [
        {
          "output_type": "stream",
          "name": "stdout",
          "text": [
            "<class 'pandas.core.frame.DataFrame'>\n",
            "Int64Index: 150 entries, 91 to 255\n",
            "Data columns (total 9 columns):\n",
            " #   Column  Non-Null Count  Dtype\n",
            "---  ------  --------------  -----\n",
            " 0   NID     150 non-null    int64\n",
            " 1   PE      150 non-null    int64\n",
            " 2   ING     150 non-null    int64\n",
            " 3   AL      150 non-null    int64\n",
            " 4   AD      150 non-null    int64\n",
            " 5   V       150 non-null    int64\n",
            " 6   A       150 non-null    int64\n",
            " 7   O       150 non-null    int64\n",
            " 8   M       150 non-null    int64\n",
            "dtypes: int64(9)\n",
            "memory usage: 11.7 KB\n"
          ]
        }
      ]
    },
    {
      "cell_type": "code",
      "source": [
        "# Creo un nuevo dataframe con los campos del ACA2\n",
        "aca2 = h150[['ING','AL','AD']]"
      ],
      "metadata": {
        "id": "3oSpkc4VNXar"
      },
      "execution_count": 7,
      "outputs": []
    },
    {
      "cell_type": "code",
      "source": [
        "# Valido el nuevo dataframe con los datos para analisis del ACA2\n",
        "aca2.info()"
      ],
      "metadata": {
        "colab": {
          "base_uri": "https://localhost:8080/"
        },
        "id": "oOhTPWnPNv1o",
        "outputId": "0a6f65be-62f8-4e5f-c471-dc3bfdbeab0c"
      },
      "execution_count": 8,
      "outputs": [
        {
          "output_type": "stream",
          "name": "stdout",
          "text": [
            "<class 'pandas.core.frame.DataFrame'>\n",
            "Int64Index: 150 entries, 91 to 255\n",
            "Data columns (total 3 columns):\n",
            " #   Column  Non-Null Count  Dtype\n",
            "---  ------  --------------  -----\n",
            " 0   ING     150 non-null    int64\n",
            " 1   AL      150 non-null    int64\n",
            " 2   AD      150 non-null    int64\n",
            "dtypes: int64(3)\n",
            "memory usage: 4.7 KB\n"
          ]
        }
      ]
    },
    {
      "cell_type": "code",
      "source": [
        "# Creo un dataframe por cada variable para crear la tabla de fecuencia\n",
        "ing = aca2[['ING']]\n",
        "al = aca2[['AL']]\n",
        "ad = aca2[['AD']]"
      ],
      "metadata": {
        "id": "ZGa5rfuwN9_4"
      },
      "execution_count": 9,
      "outputs": []
    },
    {
      "cell_type": "markdown",
      "source": [
        "# **ING: INGRESOS FAMILIARES ANUALES**"
      ],
      "metadata": {
        "id": "RHS_fQ6vDlJ2"
      }
    },
    {
      "cell_type": "code",
      "source": [
        "m = ing.size # Numero de datos\n",
        "k = round(1 + 3.322 * math.log10(m)) # Numero de intervalos\n",
        "vMx = ing.max() # Valor Maximo\n",
        "vMn = ing.min() # Valor Mimo\n",
        "inf = ing.min() # Limite inferior del primer intervalo\n",
        "rang = round(vMx - vMn) # Rango(R)\n",
        "amp = round(rang / k) # Amplitud\n",
        "dif = (ing.min() - ing.max()) % k\n",
        "sup = vMx + dif  # Limite superior\n",
        "f = math.ceil(rang / k) # Frecuencia"
      ],
      "metadata": {
        "id": "U9MhRoRHwqv0"
      },
      "execution_count": 10,
      "outputs": []
    },
    {
      "cell_type": "code",
      "source": [
        "# Creo la tabla de frecuencias para la variable ING\n",
        "intervalos_ing = pd.interval_range( start = vMn[0], end = sup[0], freq = f,  name=\"Intervalo\", closed=\"left\")\n",
        "\n",
        "df_ing = pd.DataFrame(index=intervalos_ing)\n",
        "df_ing[\"LimInf\"] = df_ing.index.left\n",
        "df_ing[\"LimSup\"] = df_ing.index.right\n",
        "df_ing[\"Marca\"]  = df_ing.index.mid\n",
        "df_ing[\"fi\"] = pd.cut(ing['ING'] , bins= df_ing.index).value_counts()\n",
        "\n",
        "\n"
      ],
      "metadata": {
        "id": "Hf8BrP7R85tx"
      },
      "execution_count": 11,
      "outputs": []
    },
    {
      "cell_type": "code",
      "source": [
        "sum(df_ing['fi']) # Valido los datos"
      ],
      "metadata": {
        "colab": {
          "base_uri": "https://localhost:8080/"
        },
        "id": "vekaQ_jmBQ_M",
        "outputId": "a54b3b90-826a-4115-8f95-b1797448cd86"
      },
      "execution_count": 12,
      "outputs": [
        {
          "output_type": "execute_result",
          "data": {
            "text/plain": [
              "150"
            ]
          },
          "metadata": {},
          "execution_count": 12
        }
      ]
    },
    {
      "cell_type": "code",
      "source": [
        "#Obtenemos las frecuencias absolutas acumuladas\n",
        "#Saco una lista de los valores donde obtengo la FI\n",
        "Fi = df_ing[\"fi\"].values\n",
        "#Recorro la lista para ir creando una nueva lista con las sumas\n",
        "# y obtener la frecuencia absoluta acumulada\n",
        "a = []\n",
        "b = 0\n",
        "for c in Fi:\n",
        "  b = c + b\n",
        "  a.append(b)\n",
        "df_ing[\"Fi\"] = a"
      ],
      "metadata": {
        "id": "4UxfTKz086rk"
      },
      "execution_count": 13,
      "outputs": []
    },
    {
      "cell_type": "code",
      "source": [
        "df_ing['x.f'] = df_ing['Marca']*df_ing['fi'] # Creo x.f\n",
        "sum_fi = sum(df_ing['fi']) # Suma total de fi\n",
        "sum_ing_xf = sum(df_ing['x.f']) # Suma total de x.f\n",
        "media_Ing = sum_ing_xf / sum_fi # Media de ING"
      ],
      "metadata": {
        "id": "Z8_F3qF8fK2U"
      },
      "execution_count": 14,
      "outputs": []
    },
    {
      "cell_type": "code",
      "source": [
        "df_ing['(x.med'] = df_ing['Marca'] - media_Ing # Obtengo x.med\n",
        "df_ing['(x-xmed).fi'] = df_ing['(x.med']* df_ing['fi'] # Obtengo x-med*fi\n",
        "df_ing['(x-xmed)^2'] = df_ing['(x-xmed).fi']**2 # "
      ],
      "metadata": {
        "id": "mUKBNnuGxbc9"
      },
      "execution_count": 15,
      "outputs": []
    },
    {
      "cell_type": "code",
      "source": [
        "mediana_Ing = ing['ING'].median() # Mediana\n",
        "moda_Ing = ing['ING'].mode() # Moda\n",
        "var_Ing = ing['ING'].var() # Varianza\n",
        "ds_Ing = ing['ING'].std() # Desviacion Estandar"
      ],
      "metadata": {
        "id": "Icbt9bybxbmF"
      },
      "execution_count": 16,
      "outputs": []
    },
    {
      "cell_type": "code",
      "source": [
        "medidas_ing = pd.DataFrame()\n",
        "medidas_ing['Medida'] = None\n",
        "medidas_ing['Valor'] = None\n",
        "mding = ['Numero de Datos','Valor Maximo','Valor Minimo','Rango','Intervalos', 'Amplitud','Media','Mediana','Moda','Varianza','Desviacion Estandar']\n",
        "medidas_ing['Medida'] = mding\n",
        "medidas_ing['Valor'] = [m, vMx[0], vMn[0], rang[0], k, amp[0], media_Ing, mediana_Ing, moda_Ing[0], var_Ing, ds_Ing]"
      ],
      "metadata": {
        "id": "5Du2JL4IKStf"
      },
      "execution_count": 17,
      "outputs": []
    },
    {
      "cell_type": "code",
      "source": [
        "df_ing"
      ],
      "metadata": {
        "colab": {
          "base_uri": "https://localhost:8080/",
          "height": 279
        },
        "id": "7DqA8hHoa2qy",
        "outputId": "6f10d39f-9b22-4a90-97ef-ca9b0247381e"
      },
      "execution_count": 18,
      "outputs": [
        {
          "output_type": "execute_result",
          "data": {
            "text/plain": [
              "                LimInf  LimSup    Marca  fi   Fi        x.f        (x.med  \\\n",
              "Intervalo                                                                   \n",
              "[30146, 33301)   30146   33301  31723.5   9    9   285511.5  -9002.266667   \n",
              "[33301, 36456)   33301   36456  34878.5  21   30   732448.5  -5847.266667   \n",
              "[36456, 39611)   36456   39611  38033.5  30   60  1141005.0  -2692.266667   \n",
              "[39611, 42766)   39611   42766  41188.5  45  105  1853482.5    462.733333   \n",
              "[42766, 45921)   42766   45921  44343.5  21  126   931213.5   3617.733333   \n",
              "[45921, 49076)   45921   49076  47498.5  18  144   854973.0   6772.733333   \n",
              "[49076, 52231)   49076   52231  50653.5   4  148   202614.0   9927.733333   \n",
              "[52231, 55386)   52231   55386  53808.5   2  150   107617.0  13082.733333   \n",
              "\n",
              "                  (x-xmed).fi    (x-xmed)^2  \n",
              "Intervalo                                    \n",
              "[30146, 33301)  -81020.400000  6.564305e+09  \n",
              "[33301, 36456) -122792.600000  1.507802e+10  \n",
              "[36456, 39611)  -80768.000000  6.523470e+09  \n",
              "[39611, 42766)   20823.000000  4.335973e+08  \n",
              "[42766, 45921)   75972.400000  5.771806e+09  \n",
              "[45921, 49076)  121909.200000  1.486185e+10  \n",
              "[49076, 52231)   39710.933333  1.576958e+09  \n",
              "[52231, 55386)   26165.466667  6.846316e+08  "
            ],
            "text/html": [
              "\n",
              "  <div id=\"df-784262bc-1c24-4806-8fcd-0b060817a834\">\n",
              "    <div class=\"colab-df-container\">\n",
              "      <div>\n",
              "<style scoped>\n",
              "    .dataframe tbody tr th:only-of-type {\n",
              "        vertical-align: middle;\n",
              "    }\n",
              "\n",
              "    .dataframe tbody tr th {\n",
              "        vertical-align: top;\n",
              "    }\n",
              "\n",
              "    .dataframe thead th {\n",
              "        text-align: right;\n",
              "    }\n",
              "</style>\n",
              "<table border=\"1\" class=\"dataframe\">\n",
              "  <thead>\n",
              "    <tr style=\"text-align: right;\">\n",
              "      <th></th>\n",
              "      <th>LimInf</th>\n",
              "      <th>LimSup</th>\n",
              "      <th>Marca</th>\n",
              "      <th>fi</th>\n",
              "      <th>Fi</th>\n",
              "      <th>x.f</th>\n",
              "      <th>(x.med</th>\n",
              "      <th>(x-xmed).fi</th>\n",
              "      <th>(x-xmed)^2</th>\n",
              "    </tr>\n",
              "    <tr>\n",
              "      <th>Intervalo</th>\n",
              "      <th></th>\n",
              "      <th></th>\n",
              "      <th></th>\n",
              "      <th></th>\n",
              "      <th></th>\n",
              "      <th></th>\n",
              "      <th></th>\n",
              "      <th></th>\n",
              "      <th></th>\n",
              "    </tr>\n",
              "  </thead>\n",
              "  <tbody>\n",
              "    <tr>\n",
              "      <th>[30146, 33301)</th>\n",
              "      <td>30146</td>\n",
              "      <td>33301</td>\n",
              "      <td>31723.5</td>\n",
              "      <td>9</td>\n",
              "      <td>9</td>\n",
              "      <td>285511.5</td>\n",
              "      <td>-9002.266667</td>\n",
              "      <td>-81020.400000</td>\n",
              "      <td>6.564305e+09</td>\n",
              "    </tr>\n",
              "    <tr>\n",
              "      <th>[33301, 36456)</th>\n",
              "      <td>33301</td>\n",
              "      <td>36456</td>\n",
              "      <td>34878.5</td>\n",
              "      <td>21</td>\n",
              "      <td>30</td>\n",
              "      <td>732448.5</td>\n",
              "      <td>-5847.266667</td>\n",
              "      <td>-122792.600000</td>\n",
              "      <td>1.507802e+10</td>\n",
              "    </tr>\n",
              "    <tr>\n",
              "      <th>[36456, 39611)</th>\n",
              "      <td>36456</td>\n",
              "      <td>39611</td>\n",
              "      <td>38033.5</td>\n",
              "      <td>30</td>\n",
              "      <td>60</td>\n",
              "      <td>1141005.0</td>\n",
              "      <td>-2692.266667</td>\n",
              "      <td>-80768.000000</td>\n",
              "      <td>6.523470e+09</td>\n",
              "    </tr>\n",
              "    <tr>\n",
              "      <th>[39611, 42766)</th>\n",
              "      <td>39611</td>\n",
              "      <td>42766</td>\n",
              "      <td>41188.5</td>\n",
              "      <td>45</td>\n",
              "      <td>105</td>\n",
              "      <td>1853482.5</td>\n",
              "      <td>462.733333</td>\n",
              "      <td>20823.000000</td>\n",
              "      <td>4.335973e+08</td>\n",
              "    </tr>\n",
              "    <tr>\n",
              "      <th>[42766, 45921)</th>\n",
              "      <td>42766</td>\n",
              "      <td>45921</td>\n",
              "      <td>44343.5</td>\n",
              "      <td>21</td>\n",
              "      <td>126</td>\n",
              "      <td>931213.5</td>\n",
              "      <td>3617.733333</td>\n",
              "      <td>75972.400000</td>\n",
              "      <td>5.771806e+09</td>\n",
              "    </tr>\n",
              "    <tr>\n",
              "      <th>[45921, 49076)</th>\n",
              "      <td>45921</td>\n",
              "      <td>49076</td>\n",
              "      <td>47498.5</td>\n",
              "      <td>18</td>\n",
              "      <td>144</td>\n",
              "      <td>854973.0</td>\n",
              "      <td>6772.733333</td>\n",
              "      <td>121909.200000</td>\n",
              "      <td>1.486185e+10</td>\n",
              "    </tr>\n",
              "    <tr>\n",
              "      <th>[49076, 52231)</th>\n",
              "      <td>49076</td>\n",
              "      <td>52231</td>\n",
              "      <td>50653.5</td>\n",
              "      <td>4</td>\n",
              "      <td>148</td>\n",
              "      <td>202614.0</td>\n",
              "      <td>9927.733333</td>\n",
              "      <td>39710.933333</td>\n",
              "      <td>1.576958e+09</td>\n",
              "    </tr>\n",
              "    <tr>\n",
              "      <th>[52231, 55386)</th>\n",
              "      <td>52231</td>\n",
              "      <td>55386</td>\n",
              "      <td>53808.5</td>\n",
              "      <td>2</td>\n",
              "      <td>150</td>\n",
              "      <td>107617.0</td>\n",
              "      <td>13082.733333</td>\n",
              "      <td>26165.466667</td>\n",
              "      <td>6.846316e+08</td>\n",
              "    </tr>\n",
              "  </tbody>\n",
              "</table>\n",
              "</div>\n",
              "      <button class=\"colab-df-convert\" onclick=\"convertToInteractive('df-784262bc-1c24-4806-8fcd-0b060817a834')\"\n",
              "              title=\"Convert this dataframe to an interactive table.\"\n",
              "              style=\"display:none;\">\n",
              "        \n",
              "  <svg xmlns=\"http://www.w3.org/2000/svg\" height=\"24px\"viewBox=\"0 0 24 24\"\n",
              "       width=\"24px\">\n",
              "    <path d=\"M0 0h24v24H0V0z\" fill=\"none\"/>\n",
              "    <path d=\"M18.56 5.44l.94 2.06.94-2.06 2.06-.94-2.06-.94-.94-2.06-.94 2.06-2.06.94zm-11 1L8.5 8.5l.94-2.06 2.06-.94-2.06-.94L8.5 2.5l-.94 2.06-2.06.94zm10 10l.94 2.06.94-2.06 2.06-.94-2.06-.94-.94-2.06-.94 2.06-2.06.94z\"/><path d=\"M17.41 7.96l-1.37-1.37c-.4-.4-.92-.59-1.43-.59-.52 0-1.04.2-1.43.59L10.3 9.45l-7.72 7.72c-.78.78-.78 2.05 0 2.83L4 21.41c.39.39.9.59 1.41.59.51 0 1.02-.2 1.41-.59l7.78-7.78 2.81-2.81c.8-.78.8-2.07 0-2.86zM5.41 20L4 18.59l7.72-7.72 1.47 1.35L5.41 20z\"/>\n",
              "  </svg>\n",
              "      </button>\n",
              "      \n",
              "  <style>\n",
              "    .colab-df-container {\n",
              "      display:flex;\n",
              "      flex-wrap:wrap;\n",
              "      gap: 12px;\n",
              "    }\n",
              "\n",
              "    .colab-df-convert {\n",
              "      background-color: #E8F0FE;\n",
              "      border: none;\n",
              "      border-radius: 50%;\n",
              "      cursor: pointer;\n",
              "      display: none;\n",
              "      fill: #1967D2;\n",
              "      height: 32px;\n",
              "      padding: 0 0 0 0;\n",
              "      width: 32px;\n",
              "    }\n",
              "\n",
              "    .colab-df-convert:hover {\n",
              "      background-color: #E2EBFA;\n",
              "      box-shadow: 0px 1px 2px rgba(60, 64, 67, 0.3), 0px 1px 3px 1px rgba(60, 64, 67, 0.15);\n",
              "      fill: #174EA6;\n",
              "    }\n",
              "\n",
              "    [theme=dark] .colab-df-convert {\n",
              "      background-color: #3B4455;\n",
              "      fill: #D2E3FC;\n",
              "    }\n",
              "\n",
              "    [theme=dark] .colab-df-convert:hover {\n",
              "      background-color: #434B5C;\n",
              "      box-shadow: 0px 1px 3px 1px rgba(0, 0, 0, 0.15);\n",
              "      filter: drop-shadow(0px 1px 2px rgba(0, 0, 0, 0.3));\n",
              "      fill: #FFFFFF;\n",
              "    }\n",
              "  </style>\n",
              "\n",
              "      <script>\n",
              "        const buttonEl =\n",
              "          document.querySelector('#df-784262bc-1c24-4806-8fcd-0b060817a834 button.colab-df-convert');\n",
              "        buttonEl.style.display =\n",
              "          google.colab.kernel.accessAllowed ? 'block' : 'none';\n",
              "\n",
              "        async function convertToInteractive(key) {\n",
              "          const element = document.querySelector('#df-784262bc-1c24-4806-8fcd-0b060817a834');\n",
              "          const dataTable =\n",
              "            await google.colab.kernel.invokeFunction('convertToInteractive',\n",
              "                                                     [key], {});\n",
              "          if (!dataTable) return;\n",
              "\n",
              "          const docLinkHtml = 'Like what you see? Visit the ' +\n",
              "            '<a target=\"_blank\" href=https://colab.research.google.com/notebooks/data_table.ipynb>data table notebook</a>'\n",
              "            + ' to learn more about interactive tables.';\n",
              "          element.innerHTML = '';\n",
              "          dataTable['output_type'] = 'display_data';\n",
              "          await google.colab.output.renderOutput(dataTable, element);\n",
              "          const docLink = document.createElement('div');\n",
              "          docLink.innerHTML = docLinkHtml;\n",
              "          element.appendChild(docLink);\n",
              "        }\n",
              "      </script>\n",
              "    </div>\n",
              "  </div>\n",
              "  "
            ]
          },
          "metadata": {},
          "execution_count": 18
        }
      ]
    },
    {
      "cell_type": "code",
      "source": [
        "medidas_ing"
      ],
      "metadata": {
        "colab": {
          "base_uri": "https://localhost:8080/",
          "height": 344
        },
        "id": "V_U3AC7Jxbos",
        "outputId": "ba9e9ec6-4030-46db-8d38-0647f3c7a947"
      },
      "execution_count": 19,
      "outputs": [
        {
          "output_type": "execute_result",
          "data": {
            "text/plain": [
              "                 Medida         Valor\n",
              "0       Numero de Datos  1.500000e+02\n",
              "1          Valor Maximo  5.537900e+04\n",
              "2          Valor Minimo  3.014600e+04\n",
              "3                 Rango  2.523300e+04\n",
              "4            Intervalos  8.000000e+00\n",
              "5              Amplitud  3.154000e+03\n",
              "6                 Media  4.072577e+04\n",
              "7               Mediana  4.090850e+04\n",
              "8                  Moda  3.900500e+04\n",
              "9              Varianza  2.400235e+07\n",
              "10  Desviacion Estandar  4.899220e+03"
            ],
            "text/html": [
              "\n",
              "  <div id=\"df-4dbbe8d4-a69d-490b-a931-ac2b675b2d5d\">\n",
              "    <div class=\"colab-df-container\">\n",
              "      <div>\n",
              "<style scoped>\n",
              "    .dataframe tbody tr th:only-of-type {\n",
              "        vertical-align: middle;\n",
              "    }\n",
              "\n",
              "    .dataframe tbody tr th {\n",
              "        vertical-align: top;\n",
              "    }\n",
              "\n",
              "    .dataframe thead th {\n",
              "        text-align: right;\n",
              "    }\n",
              "</style>\n",
              "<table border=\"1\" class=\"dataframe\">\n",
              "  <thead>\n",
              "    <tr style=\"text-align: right;\">\n",
              "      <th></th>\n",
              "      <th>Medida</th>\n",
              "      <th>Valor</th>\n",
              "    </tr>\n",
              "  </thead>\n",
              "  <tbody>\n",
              "    <tr>\n",
              "      <th>0</th>\n",
              "      <td>Numero de Datos</td>\n",
              "      <td>1.500000e+02</td>\n",
              "    </tr>\n",
              "    <tr>\n",
              "      <th>1</th>\n",
              "      <td>Valor Maximo</td>\n",
              "      <td>5.537900e+04</td>\n",
              "    </tr>\n",
              "    <tr>\n",
              "      <th>2</th>\n",
              "      <td>Valor Minimo</td>\n",
              "      <td>3.014600e+04</td>\n",
              "    </tr>\n",
              "    <tr>\n",
              "      <th>3</th>\n",
              "      <td>Rango</td>\n",
              "      <td>2.523300e+04</td>\n",
              "    </tr>\n",
              "    <tr>\n",
              "      <th>4</th>\n",
              "      <td>Intervalos</td>\n",
              "      <td>8.000000e+00</td>\n",
              "    </tr>\n",
              "    <tr>\n",
              "      <th>5</th>\n",
              "      <td>Amplitud</td>\n",
              "      <td>3.154000e+03</td>\n",
              "    </tr>\n",
              "    <tr>\n",
              "      <th>6</th>\n",
              "      <td>Media</td>\n",
              "      <td>4.072577e+04</td>\n",
              "    </tr>\n",
              "    <tr>\n",
              "      <th>7</th>\n",
              "      <td>Mediana</td>\n",
              "      <td>4.090850e+04</td>\n",
              "    </tr>\n",
              "    <tr>\n",
              "      <th>8</th>\n",
              "      <td>Moda</td>\n",
              "      <td>3.900500e+04</td>\n",
              "    </tr>\n",
              "    <tr>\n",
              "      <th>9</th>\n",
              "      <td>Varianza</td>\n",
              "      <td>2.400235e+07</td>\n",
              "    </tr>\n",
              "    <tr>\n",
              "      <th>10</th>\n",
              "      <td>Desviacion Estandar</td>\n",
              "      <td>4.899220e+03</td>\n",
              "    </tr>\n",
              "  </tbody>\n",
              "</table>\n",
              "</div>\n",
              "      <button class=\"colab-df-convert\" onclick=\"convertToInteractive('df-4dbbe8d4-a69d-490b-a931-ac2b675b2d5d')\"\n",
              "              title=\"Convert this dataframe to an interactive table.\"\n",
              "              style=\"display:none;\">\n",
              "        \n",
              "  <svg xmlns=\"http://www.w3.org/2000/svg\" height=\"24px\"viewBox=\"0 0 24 24\"\n",
              "       width=\"24px\">\n",
              "    <path d=\"M0 0h24v24H0V0z\" fill=\"none\"/>\n",
              "    <path d=\"M18.56 5.44l.94 2.06.94-2.06 2.06-.94-2.06-.94-.94-2.06-.94 2.06-2.06.94zm-11 1L8.5 8.5l.94-2.06 2.06-.94-2.06-.94L8.5 2.5l-.94 2.06-2.06.94zm10 10l.94 2.06.94-2.06 2.06-.94-2.06-.94-.94-2.06-.94 2.06-2.06.94z\"/><path d=\"M17.41 7.96l-1.37-1.37c-.4-.4-.92-.59-1.43-.59-.52 0-1.04.2-1.43.59L10.3 9.45l-7.72 7.72c-.78.78-.78 2.05 0 2.83L4 21.41c.39.39.9.59 1.41.59.51 0 1.02-.2 1.41-.59l7.78-7.78 2.81-2.81c.8-.78.8-2.07 0-2.86zM5.41 20L4 18.59l7.72-7.72 1.47 1.35L5.41 20z\"/>\n",
              "  </svg>\n",
              "      </button>\n",
              "      \n",
              "  <style>\n",
              "    .colab-df-container {\n",
              "      display:flex;\n",
              "      flex-wrap:wrap;\n",
              "      gap: 12px;\n",
              "    }\n",
              "\n",
              "    .colab-df-convert {\n",
              "      background-color: #E8F0FE;\n",
              "      border: none;\n",
              "      border-radius: 50%;\n",
              "      cursor: pointer;\n",
              "      display: none;\n",
              "      fill: #1967D2;\n",
              "      height: 32px;\n",
              "      padding: 0 0 0 0;\n",
              "      width: 32px;\n",
              "    }\n",
              "\n",
              "    .colab-df-convert:hover {\n",
              "      background-color: #E2EBFA;\n",
              "      box-shadow: 0px 1px 2px rgba(60, 64, 67, 0.3), 0px 1px 3px 1px rgba(60, 64, 67, 0.15);\n",
              "      fill: #174EA6;\n",
              "    }\n",
              "\n",
              "    [theme=dark] .colab-df-convert {\n",
              "      background-color: #3B4455;\n",
              "      fill: #D2E3FC;\n",
              "    }\n",
              "\n",
              "    [theme=dark] .colab-df-convert:hover {\n",
              "      background-color: #434B5C;\n",
              "      box-shadow: 0px 1px 3px 1px rgba(0, 0, 0, 0.15);\n",
              "      filter: drop-shadow(0px 1px 2px rgba(0, 0, 0, 0.3));\n",
              "      fill: #FFFFFF;\n",
              "    }\n",
              "  </style>\n",
              "\n",
              "      <script>\n",
              "        const buttonEl =\n",
              "          document.querySelector('#df-4dbbe8d4-a69d-490b-a931-ac2b675b2d5d button.colab-df-convert');\n",
              "        buttonEl.style.display =\n",
              "          google.colab.kernel.accessAllowed ? 'block' : 'none';\n",
              "\n",
              "        async function convertToInteractive(key) {\n",
              "          const element = document.querySelector('#df-4dbbe8d4-a69d-490b-a931-ac2b675b2d5d');\n",
              "          const dataTable =\n",
              "            await google.colab.kernel.invokeFunction('convertToInteractive',\n",
              "                                                     [key], {});\n",
              "          if (!dataTable) return;\n",
              "\n",
              "          const docLinkHtml = 'Like what you see? Visit the ' +\n",
              "            '<a target=\"_blank\" href=https://colab.research.google.com/notebooks/data_table.ipynb>data table notebook</a>'\n",
              "            + ' to learn more about interactive tables.';\n",
              "          element.innerHTML = '';\n",
              "          dataTable['output_type'] = 'display_data';\n",
              "          await google.colab.output.renderOutput(dataTable, element);\n",
              "          const docLink = document.createElement('div');\n",
              "          docLink.innerHTML = docLinkHtml;\n",
              "          element.appendChild(docLink);\n",
              "        }\n",
              "      </script>\n",
              "    </div>\n",
              "  </div>\n",
              "  "
            ]
          },
          "metadata": {},
          "execution_count": 19
        }
      ]
    },
    {
      "cell_type": "code",
      "source": [
        "# Utilizo un histograma para validar el Limite superior contra la frecuancia \n",
        "\n",
        "sns.histplot(data=df_ing, x=\"LimSup\", y=\"fi\", hue=\"fi\")"
      ],
      "metadata": {
        "colab": {
          "base_uri": "https://localhost:8080/",
          "height": 300
        },
        "id": "qRUKzKqXtL5b",
        "outputId": "4b7e3021-1cb1-4b42-e18c-e3b06dc13c9d"
      },
      "execution_count": 20,
      "outputs": [
        {
          "output_type": "execute_result",
          "data": {
            "text/plain": [
              "<matplotlib.axes._subplots.AxesSubplot at 0x7f6081a6cf90>"
            ]
          },
          "metadata": {},
          "execution_count": 20
        },
        {
          "output_type": "display_data",
          "data": {
            "text/plain": [
              "<Figure size 432x288 with 1 Axes>"
            ],
            "image/png": "[encoded data removed]"
          },
          "metadata": {}
        }
      ]
    },
    {
      "cell_type": "markdown",
      "source": [
        "# **AL: GASTOS DE ALIMENTACIÓN ANUALES**"
      ],
      "metadata": {
        "id": "1hGORj5nDZ-x"
      }
    },
    {
      "cell_type": "code",
      "source": [
        "am = al.size # Numero de datos\n",
        "ak = round(1 + 3.322 * math.log10(am)) # Numero de intervalos\n",
        "avMx = al.max() # Valor Maximo\n",
        "avMn = al.min() # Valor Mimo\n",
        "ainf = al.min() # Limite inferior del primer intervalo\n",
        "arang = round(avMx - avMn) # Rango(R)\n",
        "aamp = round(arang / ak) # Amplitud\n",
        "adif = (al.min() - al.max()) % ak\n",
        "asup = avMx + adif  # Limite superior\n",
        "af = math.ceil(arang / ak) # Frecuencia"
      ],
      "metadata": {
        "id": "acVNR1ubIbso"
      },
      "execution_count": 21,
      "outputs": []
    },
    {
      "cell_type": "code",
      "source": [
        "# Creo la tabla de frecuencias para la variable ING\n",
        "intervalos_al = pd.interval_range( start = avMn[0], end = asup[0], freq = af,  name=\"Intervalo\", closed=\"left\")\n",
        "\n",
        "df_al = pd.DataFrame(index=intervalos_al)\n",
        "df_al[\"LimInf\"] = df_al.index.left\n",
        "df_al[\"LimSup\"] = df_al.index.right\n",
        "df_al[\"Marca\"]  = df_al.index.mid\n",
        "df_al[\"fi\"] = pd.cut(al['AL'] , bins= df_al.index).value_counts()"
      ],
      "metadata": {
        "id": "oU_JordsIbwH"
      },
      "execution_count": 22,
      "outputs": []
    },
    {
      "cell_type": "code",
      "source": [
        "sum(df_al['fi'])"
      ],
      "metadata": {
        "colab": {
          "base_uri": "https://localhost:8080/"
        },
        "id": "dJhMYNORQHQt",
        "outputId": "4b1bca4e-07ea-404a-9b2d-1a1185869616"
      },
      "execution_count": 23,
      "outputs": [
        {
          "output_type": "execute_result",
          "data": {
            "text/plain": [
              "150"
            ]
          },
          "metadata": {},
          "execution_count": 23
        }
      ]
    },
    {
      "cell_type": "code",
      "source": [
        "#Obtenemos las frecuencias absolutas acumuladas\n",
        "#Saco una lista de los valores donde obtengo la FI\n",
        "Fi = df_al[\"fi\"].values\n",
        "#Recorro la lista para ir creando una nueva lista con las sumas\n",
        "# y obtener la frecuencia absoluta acumulada\n",
        "a = []\n",
        "b = 0\n",
        "for c in Fi:\n",
        "  b = c + b\n",
        "  a.append(b)\n",
        "df_al[\"Fi\"] = a"
      ],
      "metadata": {
        "id": "SJdny9aVgZa-"
      },
      "execution_count": 24,
      "outputs": []
    },
    {
      "cell_type": "code",
      "source": [
        "df_al['x.f'] = df_al['Marca']*df_al['fi'] # Creo x.f\n",
        "asum_fi = sum(df_al['fi']) # Suma total de fi\n",
        "asum_ing_xf = sum(df_al['x.f']) # Suma total de x.f\n",
        "media_al = asum_ing_xf / asum_fi # Media de AL\n",
        "df_al['(x.med'] = df_al['Marca'] - media_al # Obtengo x.med\n",
        "df_al['(x-xmed).fi'] = df_al['(x.med']* df_al['fi'] # Obtengo x-med*fi\n",
        "df_al['(x-xmed)^2'] = df_al['(x-xmed).fi']**2 # \n",
        "mediana_al = al['AL'].median() # Mediana\n",
        "moda_al = al['AL'].mode() # Moda\n",
        "var_al = al['AL'].var() # Varianza\n",
        "ds_al = al['AL'].std() # Desviacion Estandar\n",
        "\n"
      ],
      "metadata": {
        "id": "EC-cGBTWbxPc"
      },
      "execution_count": 25,
      "outputs": []
    },
    {
      "cell_type": "code",
      "source": [
        "medidas_al = pd.DataFrame()\n",
        "medidas_al['Medida'] = None\n",
        "medidas_al['Valor'] = None\n",
        "ading = ['Numero de Datos','Valor Maximo','Valor Minimo','Rango','Intervalos', 'Amplitud','Media','Mediana','Moda','Varianza','Desviacion Estandar']\n",
        "medidas_al['Medida'] = ading\n",
        "medidas_al['Valor'] = [am, avMx[0], avMn[0], arang[0], ak, aamp[0], media_al, mediana_al, moda_al[0], var_al, ds_al]"
      ],
      "metadata": {
        "id": "_uPKNGwBpW7K"
      },
      "execution_count": 26,
      "outputs": []
    },
    {
      "cell_type": "code",
      "source": [
        "df_al"
      ],
      "metadata": {
        "colab": {
          "base_uri": "https://localhost:8080/",
          "height": 279
        },
        "id": "6wptIBpKoLSd",
        "outputId": "08e91a11-87e8-4421-bfc7-249e70504ab0"
      },
      "execution_count": 27,
      "outputs": [
        {
          "output_type": "execute_result",
          "data": {
            "text/plain": [
              "                LimInf  LimSup    Marca  fi   Fi       x.f   (x.med  \\\n",
              "Intervalo                                                             \n",
              "[5547, 6301)      5547    6301   5924.0   7    7   41468.0 -2397.72   \n",
              "[6301, 7055)      6301    7055   6678.0  11   18   73458.0 -1643.72   \n",
              "[7055, 7809)      7055    7809   7432.0  35   53  260120.0  -889.72   \n",
              "[7809, 8563)      7809    8563   8186.0  35   88  286510.0  -135.72   \n",
              "[8563, 9317)      8563    9317   8940.0  31  119  277140.0   618.28   \n",
              "[9317, 10071)     9317   10071   9694.0  21  140  203574.0  1372.28   \n",
              "[10071, 10825)   10071   10825  10448.0   8  148   83584.0  2126.28   \n",
              "[10825, 11579)   10825   11579  11202.0   2  150   22404.0  2880.28   \n",
              "\n",
              "                (x-xmed).fi    (x-xmed)^2  \n",
              "Intervalo                                  \n",
              "[5547, 6301)      -16784.04  2.817040e+08  \n",
              "[6301, 7055)      -18080.92  3.269197e+08  \n",
              "[7055, 7809)      -31140.20  9.697121e+08  \n",
              "[7809, 8563)       -4750.20  2.256440e+07  \n",
              "[8563, 9317)       19166.68  3.673616e+08  \n",
              "[9317, 10071)      28817.88  8.304702e+08  \n",
              "[10071, 10825)     17010.24  2.893483e+08  \n",
              "[10825, 11579)      5760.56  3.318405e+07  "
            ],
            "text/html": [
              "\n",
              "  <div id=\"df-347373e6-b7be-44eb-92cb-c5c13e5056f0\">\n",
              "    <div class=\"colab-df-container\">\n",
              "      <div>\n",
              "<style scoped>\n",
              "    .dataframe tbody tr th:only-of-type {\n",
              "        vertical-align: middle;\n",
              "    }\n",
              "\n",
              "    .dataframe tbody tr th {\n",
              "        vertical-align: top;\n",
              "    }\n",
              "\n",
              "    .dataframe thead th {\n",
              "        text-align: right;\n",
              "    }\n",
              "</style>\n",
              "<table border=\"1\" class=\"dataframe\">\n",
              "  <thead>\n",
              "    <tr style=\"text-align: right;\">\n",
              "      <th></th>\n",
              "      <th>LimInf</th>\n",
              "      <th>LimSup</th>\n",
              "      <th>Marca</th>\n",
              "      <th>fi</th>\n",
              "      <th>Fi</th>\n",
              "      <th>x.f</th>\n",
              "      <th>(x.med</th>\n",
              "      <th>(x-xmed).fi</th>\n",
              "      <th>(x-xmed)^2</th>\n",
              "    </tr>\n",
              "    <tr>\n",
              "      <th>Intervalo</th>\n",
              "      <th></th>\n",
              "      <th></th>\n",
              "      <th></th>\n",
              "      <th></th>\n",
              "      <th></th>\n",
              "      <th></th>\n",
              "      <th></th>\n",
              "      <th></th>\n",
              "      <th></th>\n",
              "    </tr>\n",
              "  </thead>\n",
              "  <tbody>\n",
              "    <tr>\n",
              "      <th>[5547, 6301)</th>\n",
              "      <td>5547</td>\n",
              "      <td>6301</td>\n",
              "      <td>5924.0</td>\n",
              "      <td>7</td>\n",
              "      <td>7</td>\n",
              "      <td>41468.0</td>\n",
              "      <td>-2397.72</td>\n",
              "      <td>-16784.04</td>\n",
              "      <td>2.817040e+08</td>\n",
              "    </tr>\n",
              "    <tr>\n",
              "      <th>[6301, 7055)</th>\n",
              "      <td>6301</td>\n",
              "      <td>7055</td>\n",
              "      <td>6678.0</td>\n",
              "      <td>11</td>\n",
              "      <td>18</td>\n",
              "      <td>73458.0</td>\n",
              "      <td>-1643.72</td>\n",
              "      <td>-18080.92</td>\n",
              "      <td>3.269197e+08</td>\n",
              "    </tr>\n",
              "    <tr>\n",
              "      <th>[7055, 7809)</th>\n",
              "      <td>7055</td>\n",
              "      <td>7809</td>\n",
              "      <td>7432.0</td>\n",
              "      <td>35</td>\n",
              "      <td>53</td>\n",
              "      <td>260120.0</td>\n",
              "      <td>-889.72</td>\n",
              "      <td>-31140.20</td>\n",
              "      <td>9.697121e+08</td>\n",
              "    </tr>\n",
              "    <tr>\n",
              "      <th>[7809, 8563)</th>\n",
              "      <td>7809</td>\n",
              "      <td>8563</td>\n",
              "      <td>8186.0</td>\n",
              "      <td>35</td>\n",
              "      <td>88</td>\n",
              "      <td>286510.0</td>\n",
              "      <td>-135.72</td>\n",
              "      <td>-4750.20</td>\n",
              "      <td>2.256440e+07</td>\n",
              "    </tr>\n",
              "    <tr>\n",
              "      <th>[8563, 9317)</th>\n",
              "      <td>8563</td>\n",
              "      <td>9317</td>\n",
              "      <td>8940.0</td>\n",
              "      <td>31</td>\n",
              "      <td>119</td>\n",
              "      <td>277140.0</td>\n",
              "      <td>618.28</td>\n",
              "      <td>19166.68</td>\n",
              "      <td>3.673616e+08</td>\n",
              "    </tr>\n",
              "    <tr>\n",
              "      <th>[9317, 10071)</th>\n",
              "      <td>9317</td>\n",
              "      <td>10071</td>\n",
              "      <td>9694.0</td>\n",
              "      <td>21</td>\n",
              "      <td>140</td>\n",
              "      <td>203574.0</td>\n",
              "      <td>1372.28</td>\n",
              "      <td>28817.88</td>\n",
              "      <td>8.304702e+08</td>\n",
              "    </tr>\n",
              "    <tr>\n",
              "      <th>[10071, 10825)</th>\n",
              "      <td>10071</td>\n",
              "      <td>10825</td>\n",
              "      <td>10448.0</td>\n",
              "      <td>8</td>\n",
              "      <td>148</td>\n",
              "      <td>83584.0</td>\n",
              "      <td>2126.28</td>\n",
              "      <td>17010.24</td>\n",
              "      <td>2.893483e+08</td>\n",
              "    </tr>\n",
              "    <tr>\n",
              "      <th>[10825, 11579)</th>\n",
              "      <td>10825</td>\n",
              "      <td>11579</td>\n",
              "      <td>11202.0</td>\n",
              "      <td>2</td>\n",
              "      <td>150</td>\n",
              "      <td>22404.0</td>\n",
              "      <td>2880.28</td>\n",
              "      <td>5760.56</td>\n",
              "      <td>3.318405e+07</td>\n",
              "    </tr>\n",
              "  </tbody>\n",
              "</table>\n",
              "</div>\n",
              "      <button class=\"colab-df-convert\" onclick=\"convertToInteractive('df-347373e6-b7be-44eb-92cb-c5c13e5056f0')\"\n",
              "              title=\"Convert this dataframe to an interactive table.\"\n",
              "              style=\"display:none;\">\n",
              "        \n",
              "  <svg xmlns=\"http://www.w3.org/2000/svg\" height=\"24px\"viewBox=\"0 0 24 24\"\n",
              "       width=\"24px\">\n",
              "    <path d=\"M0 0h24v24H0V0z\" fill=\"none\"/>\n",
              "    <path d=\"M18.56 5.44l.94 2.06.94-2.06 2.06-.94-2.06-.94-.94-2.06-.94 2.06-2.06.94zm-11 1L8.5 8.5l.94-2.06 2.06-.94-2.06-.94L8.5 2.5l-.94 2.06-2.06.94zm10 10l.94 2.06.94-2.06 2.06-.94-2.06-.94-.94-2.06-.94 2.06-2.06.94z\"/><path d=\"M17.41 7.96l-1.37-1.37c-.4-.4-.92-.59-1.43-.59-.52 0-1.04.2-1.43.59L10.3 9.45l-7.72 7.72c-.78.78-.78 2.05 0 2.83L4 21.41c.39.39.9.59 1.41.59.51 0 1.02-.2 1.41-.59l7.78-7.78 2.81-2.81c.8-.78.8-2.07 0-2.86zM5.41 20L4 18.59l7.72-7.72 1.47 1.35L5.41 20z\"/>\n",
              "  </svg>\n",
              "      </button>\n",
              "      \n",
              "  <style>\n",
              "    .colab-df-container {\n",
              "      display:flex;\n",
              "      flex-wrap:wrap;\n",
              "      gap: 12px;\n",
              "    }\n",
              "\n",
              "    .colab-df-convert {\n",
              "      background-color: #E8F0FE;\n",
              "      border: none;\n",
              "      border-radius: 50%;\n",
              "      cursor: pointer;\n",
              "      display: none;\n",
              "      fill: #1967D2;\n",
              "      height: 32px;\n",
              "      padding: 0 0 0 0;\n",
              "      width: 32px;\n",
              "    }\n",
              "\n",
              "    .colab-df-convert:hover {\n",
              "      background-color: #E2EBFA;\n",
              "      box-shadow: 0px 1px 2px rgba(60, 64, 67, 0.3), 0px 1px 3px 1px rgba(60, 64, 67, 0.15);\n",
              "      fill: #174EA6;\n",
              "    }\n",
              "\n",
              "    [theme=dark] .colab-df-convert {\n",
              "      background-color: #3B4455;\n",
              "      fill: #D2E3FC;\n",
              "    }\n",
              "\n",
              "    [theme=dark] .colab-df-convert:hover {\n",
              "      background-color: #434B5C;\n",
              "      box-shadow: 0px 1px 3px 1px rgba(0, 0, 0, 0.15);\n",
              "      filter: drop-shadow(0px 1px 2px rgba(0, 0, 0, 0.3));\n",
              "      fill: #FFFFFF;\n",
              "    }\n",
              "  </style>\n",
              "\n",
              "      <script>\n",
              "        const buttonEl =\n",
              "          document.querySelector('#df-347373e6-b7be-44eb-92cb-c5c13e5056f0 button.colab-df-convert');\n",
              "        buttonEl.style.display =\n",
              "          google.colab.kernel.accessAllowed ? 'block' : 'none';\n",
              "\n",
              "        async function convertToInteractive(key) {\n",
              "          const element = document.querySelector('#df-347373e6-b7be-44eb-92cb-c5c13e5056f0');\n",
              "          const dataTable =\n",
              "            await google.colab.kernel.invokeFunction('convertToInteractive',\n",
              "                                                     [key], {});\n",
              "          if (!dataTable) return;\n",
              "\n",
              "          const docLinkHtml = 'Like what you see? Visit the ' +\n",
              "            '<a target=\"_blank\" href=https://colab.research.google.com/notebooks/data_table.ipynb>data table notebook</a>'\n",
              "            + ' to learn more about interactive tables.';\n",
              "          element.innerHTML = '';\n",
              "          dataTable['output_type'] = 'display_data';\n",
              "          await google.colab.output.renderOutput(dataTable, element);\n",
              "          const docLink = document.createElement('div');\n",
              "          docLink.innerHTML = docLinkHtml;\n",
              "          element.appendChild(docLink);\n",
              "        }\n",
              "      </script>\n",
              "    </div>\n",
              "  </div>\n",
              "  "
            ]
          },
          "metadata": {},
          "execution_count": 27
        }
      ]
    },
    {
      "cell_type": "code",
      "source": [
        "medidas_al"
      ],
      "metadata": {
        "colab": {
          "base_uri": "https://localhost:8080/",
          "height": 344
        },
        "id": "TRi_QHvKrK8W",
        "outputId": "a5265a96-9aff-463b-95d9-151a11407810"
      },
      "execution_count": 29,
      "outputs": [
        {
          "output_type": "execute_result",
          "data": {
            "text/plain": [
              "                 Medida         Valor\n",
              "0       Numero de Datos  1.500000e+02\n",
              "1          Valor Maximo  1.157500e+04\n",
              "2          Valor Minimo  5.547000e+03\n",
              "3                 Rango  6.028000e+03\n",
              "4            Intervalos  8.000000e+00\n",
              "5              Amplitud  7.540000e+02\n",
              "6                 Media  8.321720e+03\n",
              "7               Mediana  8.261000e+03\n",
              "8                  Moda  8.592000e+03\n",
              "9              Varianza  1.324714e+06\n",
              "10  Desviacion Estandar  1.150962e+03"
            ],
            "text/html": [
              "\n",
              "  <div id=\"df-a2e191c1-45ba-445c-9294-960c39a8c0ea\">\n",
              "    <div class=\"colab-df-container\">\n",
              "      <div>\n",
              "<style scoped>\n",
              "    .dataframe tbody tr th:only-of-type {\n",
              "        vertical-align: middle;\n",
              "    }\n",
              "\n",
              "    .dataframe tbody tr th {\n",
              "        vertical-align: top;\n",
              "    }\n",
              "\n",
              "    .dataframe thead th {\n",
              "        text-align: right;\n",
              "    }\n",
              "</style>\n",
              "<table border=\"1\" class=\"dataframe\">\n",
              "  <thead>\n",
              "    <tr style=\"text-align: right;\">\n",
              "      <th></th>\n",
              "      <th>Medida</th>\n",
              "      <th>Valor</th>\n",
              "    </tr>\n",
              "  </thead>\n",
              "  <tbody>\n",
              "    <tr>\n",
              "      <th>0</th>\n",
              "      <td>Numero de Datos</td>\n",
              "      <td>1.500000e+02</td>\n",
              "    </tr>\n",
              "    <tr>\n",
              "      <th>1</th>\n",
              "      <td>Valor Maximo</td>\n",
              "      <td>1.157500e+04</td>\n",
              "    </tr>\n",
              "    <tr>\n",
              "      <th>2</th>\n",
              "      <td>Valor Minimo</td>\n",
              "      <td>5.547000e+03</td>\n",
              "    </tr>\n",
              "    <tr>\n",
              "      <th>3</th>\n",
              "      <td>Rango</td>\n",
              "      <td>6.028000e+03</td>\n",
              "    </tr>\n",
              "    <tr>\n",
              "      <th>4</th>\n",
              "      <td>Intervalos</td>\n",
              "      <td>8.000000e+00</td>\n",
              "    </tr>\n",
              "    <tr>\n",
              "      <th>5</th>\n",
              "      <td>Amplitud</td>\n",
              "      <td>7.540000e+02</td>\n",
              "    </tr>\n",
              "    <tr>\n",
              "      <th>6</th>\n",
              "      <td>Media</td>\n",
              "      <td>8.321720e+03</td>\n",
              "    </tr>\n",
              "    <tr>\n",
              "      <th>7</th>\n",
              "      <td>Mediana</td>\n",
              "      <td>8.261000e+03</td>\n",
              "    </tr>\n",
              "    <tr>\n",
              "      <th>8</th>\n",
              "      <td>Moda</td>\n",
              "      <td>8.592000e+03</td>\n",
              "    </tr>\n",
              "    <tr>\n",
              "      <th>9</th>\n",
              "      <td>Varianza</td>\n",
              "      <td>1.324714e+06</td>\n",
              "    </tr>\n",
              "    <tr>\n",
              "      <th>10</th>\n",
              "      <td>Desviacion Estandar</td>\n",
              "      <td>1.150962e+03</td>\n",
              "    </tr>\n",
              "  </tbody>\n",
              "</table>\n",
              "</div>\n",
              "      <button class=\"colab-df-convert\" onclick=\"convertToInteractive('df-a2e191c1-45ba-445c-9294-960c39a8c0ea')\"\n",
              "              title=\"Convert this dataframe to an interactive table.\"\n",
              "              style=\"display:none;\">\n",
              "        \n",
              "  <svg xmlns=\"http://www.w3.org/2000/svg\" height=\"24px\"viewBox=\"0 0 24 24\"\n",
              "       width=\"24px\">\n",
              "    <path d=\"M0 0h24v24H0V0z\" fill=\"none\"/>\n",
              "    <path d=\"M18.56 5.44l.94 2.06.94-2.06 2.06-.94-2.06-.94-.94-2.06-.94 2.06-2.06.94zm-11 1L8.5 8.5l.94-2.06 2.06-.94-2.06-.94L8.5 2.5l-.94 2.06-2.06.94zm10 10l.94 2.06.94-2.06 2.06-.94-2.06-.94-.94-2.06-.94 2.06-2.06.94z\"/><path d=\"M17.41 7.96l-1.37-1.37c-.4-.4-.92-.59-1.43-.59-.52 0-1.04.2-1.43.59L10.3 9.45l-7.72 7.72c-.78.78-.78 2.05 0 2.83L4 21.41c.39.39.9.59 1.41.59.51 0 1.02-.2 1.41-.59l7.78-7.78 2.81-2.81c.8-.78.8-2.07 0-2.86zM5.41 20L4 18.59l7.72-7.72 1.47 1.35L5.41 20z\"/>\n",
              "  </svg>\n",
              "      </button>\n",
              "      \n",
              "  <style>\n",
              "    .colab-df-container {\n",
              "      display:flex;\n",
              "      flex-wrap:wrap;\n",
              "      gap: 12px;\n",
              "    }\n",
              "\n",
              "    .colab-df-convert {\n",
              "      background-color: #E8F0FE;\n",
              "      border: none;\n",
              "      border-radius: 50%;\n",
              "      cursor: pointer;\n",
              "      display: none;\n",
              "      fill: #1967D2;\n",
              "      height: 32px;\n",
              "      padding: 0 0 0 0;\n",
              "      width: 32px;\n",
              "    }\n",
              "\n",
              "    .colab-df-convert:hover {\n",
              "      background-color: #E2EBFA;\n",
              "      box-shadow: 0px 1px 2px rgba(60, 64, 67, 0.3), 0px 1px 3px 1px rgba(60, 64, 67, 0.15);\n",
              "      fill: #174EA6;\n",
              "    }\n",
              "\n",
              "    [theme=dark] .colab-df-convert {\n",
              "      background-color: #3B4455;\n",
              "      fill: #D2E3FC;\n",
              "    }\n",
              "\n",
              "    [theme=dark] .colab-df-convert:hover {\n",
              "      background-color: #434B5C;\n",
              "      box-shadow: 0px 1px 3px 1px rgba(0, 0, 0, 0.15);\n",
              "      filter: drop-shadow(0px 1px 2px rgba(0, 0, 0, 0.3));\n",
              "      fill: #FFFFFF;\n",
              "    }\n",
              "  </style>\n",
              "\n",
              "      <script>\n",
              "        const buttonEl =\n",
              "          document.querySelector('#df-a2e191c1-45ba-445c-9294-960c39a8c0ea button.colab-df-convert');\n",
              "        buttonEl.style.display =\n",
              "          google.colab.kernel.accessAllowed ? 'block' : 'none';\n",
              "\n",
              "        async function convertToInteractive(key) {\n",
              "          const element = document.querySelector('#df-a2e191c1-45ba-445c-9294-960c39a8c0ea');\n",
              "          const dataTable =\n",
              "            await google.colab.kernel.invokeFunction('convertToInteractive',\n",
              "                                                     [key], {});\n",
              "          if (!dataTable) return;\n",
              "\n",
              "          const docLinkHtml = 'Like what you see? Visit the ' +\n",
              "            '<a target=\"_blank\" href=https://colab.research.google.com/notebooks/data_table.ipynb>data table notebook</a>'\n",
              "            + ' to learn more about interactive tables.';\n",
              "          element.innerHTML = '';\n",
              "          dataTable['output_type'] = 'display_data';\n",
              "          await google.colab.output.renderOutput(dataTable, element);\n",
              "          const docLink = document.createElement('div');\n",
              "          docLink.innerHTML = docLinkHtml;\n",
              "          element.appendChild(docLink);\n",
              "        }\n",
              "      </script>\n",
              "    </div>\n",
              "  </div>\n",
              "  "
            ]
          },
          "metadata": {},
          "execution_count": 29
        }
      ]
    },
    {
      "cell_type": "code",
      "source": [
        "# Utilizo un histograma para validar el Limite superior contra la frecuancia \n",
        "\n",
        "sns.histplot(data=df_al, x=\"LimSup\", y=\"fi\", hue=\"fi\")"
      ],
      "metadata": {
        "colab": {
          "base_uri": "https://localhost:8080/",
          "height": 300
        },
        "id": "uLbh_LKPbxRy",
        "outputId": "2d1eba11-92c1-4cee-b0cb-be7a1ae96567"
      },
      "execution_count": 30,
      "outputs": [
        {
          "output_type": "execute_result",
          "data": {
            "text/plain": [
              "<matplotlib.axes._subplots.AxesSubplot at 0x7f6081955fd0>"
            ]
          },
          "metadata": {},
          "execution_count": 30
        },
        {
          "output_type": "display_data",
          "data": {
            "text/plain": [
              "<Figure size 432x288 with 1 Axes>"
            ],
            "image/png": "[encoded data removed]"
          },
          "metadata": {}
        }
      ]
    },
    {
      "cell_type": "markdown",
      "source": [
        "# **AD: GASTOS ADICIONALES ANUALES**"
      ],
      "metadata": {
        "id": "LyGrT4nGIZnI"
      }
    },
    {
      "cell_type": "code",
      "source": [
        "dm = ad.size # Numero de datos\n",
        "dk = round(1 + 3.322 * math.log10(dm)) # Numero de intervalos\n",
        "dvMx = ad.max() # Valor Maximo\n",
        "dvMn = ad.min() # Valor Mimo\n",
        "dinf = ad.min() # Limite inferior del primer intervalo\n",
        "drang = round(dvMx - dvMn) # Rango(R)\n",
        "damp = round(drang / dk) # Amplitud\n",
        "ddif = (ad.min() - ad.max()) % k\n",
        "dsup = dvMx + ddif  # Limite superior\n",
        "fd = math.ceil(drang / dk) # Frecuencia"
      ],
      "metadata": {
        "id": "UyzDwZfOIhAm"
      },
      "execution_count": 31,
      "outputs": []
    },
    {
      "cell_type": "code",
      "source": [
        "# Creo la tabla de frecuencias para la variable AD\n",
        "intervalos_ad = pd.interval_range( start = dvMn[0], end = dsup[0], freq = fd,  name=\"Intervalo\", closed=\"left\")\n",
        "\n",
        "df_ad = pd.DataFrame(index=intervalos_ad)\n",
        "df_ad[\"LimInf\"] = df_ad.index.left\n",
        "df_ad[\"LimSup\"] = df_ad.index.right\n",
        "df_ad[\"Marca\"]  = df_ad.index.mid\n",
        "df_ad[\"fi\"] = pd.cut(ad['AD'] , bins= df_ad.index).value_counts()"
      ],
      "metadata": {
        "id": "6Hcefcb6JCT9"
      },
      "execution_count": 32,
      "outputs": []
    },
    {
      "cell_type": "code",
      "source": [
        "sum(df_ad['fi'])"
      ],
      "metadata": {
        "colab": {
          "base_uri": "https://localhost:8080/"
        },
        "id": "yCyCk526Jk6x",
        "outputId": "82707fe8-6fe3-4d4e-97bb-538e56b0e9d6"
      },
      "execution_count": 33,
      "outputs": [
        {
          "output_type": "execute_result",
          "data": {
            "text/plain": [
              "150"
            ]
          },
          "metadata": {},
          "execution_count": 33
        }
      ]
    },
    {
      "cell_type": "code",
      "source": [
        "#Obtenemos las frecuencias absolutas acumuladas\n",
        "#Saco una lista de los valores donde obtengo la FI\n",
        "Fi = df_ad[\"fi\"].values\n",
        "#Recorro la lista para ir creando una nueva lista con las sumas\n",
        "# y obtener la frecuencia absoluta acumulada\n",
        "a = []\n",
        "b = 0\n",
        "for c in Fi:\n",
        "  b = c + b\n",
        "  a.append(b)\n",
        "df_ad[\"Fi\"] = a"
      ],
      "metadata": {
        "id": "t30wNjKQJrfH"
      },
      "execution_count": 34,
      "outputs": []
    },
    {
      "cell_type": "code",
      "source": [
        "df_ad['x.f'] = df_ad['Marca']*df_ad['fi'] # Creo x.f\n",
        "dsum_fi = sum(df_ad['fi']) # Suma total de fi\n",
        "dsum_ing_xf = sum(df_ad['x.f']) # Suma total de x.f\n",
        "media_ad = dsum_ing_xf / dsum_fi # Media de AD\n",
        "df_ad['(x.med'] = df_ad['Marca'] - media_ad # Obtengo x.med\n",
        "df_ad['(x-xmed).fi'] = df_ad['(x.med']* df_ad['fi'] # Obtengo x-med*fi\n",
        "df_ad['(x-xmed)^2'] = df_ad['(x-xmed).fi']**2 # \n",
        "mediana_ad = ad['AD'].median() # Mediana\n",
        "moda_ad = ad['AD'].mode() # Moda\n",
        "var_ad = ad['AD'].var() # Varianza\n",
        "ds_ad = ad['AD'].std() # Desviacion Estandar"
      ],
      "metadata": {
        "id": "u5xS7m0eJyuh"
      },
      "execution_count": 35,
      "outputs": []
    },
    {
      "cell_type": "code",
      "source": [
        "medidas_ad = pd.DataFrame()\n",
        "medidas_ad['Medida'] = None\n",
        "medidas_ad['Valor'] = None\n",
        "dding = ['Numero de Datos','Valor Maximo','Valor Minimo','Rango','Intervalos', 'Amplitud','Media','Mediana','Moda','Varianza','Desviacion Estandar']\n",
        "medidas_ad['Medida'] = dding\n",
        "medidas_ad['Valor'] = [dm, dvMx[0], dvMn[0], drang[0], dk, damp[0], media_ad, mediana_ad, moda_ad[0], var_ad, ds_ad]"
      ],
      "metadata": {
        "id": "eFdFWS1KKMcV"
      },
      "execution_count": 36,
      "outputs": []
    },
    {
      "cell_type": "code",
      "source": [
        "df_ad"
      ],
      "metadata": {
        "colab": {
          "base_uri": "https://localhost:8080/",
          "height": 279
        },
        "id": "GveDOVfuKf3g",
        "outputId": "f9320df2-9640-450e-c5f9-03eef64066cf"
      },
      "execution_count": 37,
      "outputs": [
        {
          "output_type": "execute_result",
          "data": {
            "text/plain": [
              "              LimInf  LimSup   Marca  fi   Fi       x.f   (x.med  (x-xmed).fi  \\\n",
              "Intervalo                                                                       \n",
              "[2116, 2644)    2116    2644  2380.0   5    5   11900.0 -1700.16     -8500.80   \n",
              "[2644, 3172)    2644    3172  2908.0  14   19   40712.0 -1172.16    -16410.24   \n",
              "[3172, 3700)    3172    3700  3436.0  31   50  106516.0  -644.16    -19968.96   \n",
              "[3700, 4228)    3700    4228  3964.0  37   87  146668.0  -116.16     -4297.92   \n",
              "[4228, 4756)    4228    4756  4492.0  31  118  139252.0   411.84     12767.04   \n",
              "[4756, 5284)    4756    5284  5020.0  22  140  110440.0   939.84     20676.48   \n",
              "[5284, 5812)    5284    5812  5548.0   8  148   44384.0  1467.84     11742.72   \n",
              "[5812, 6340)    5812    6340  6076.0   2  150   12152.0  1995.84      3991.68   \n",
              "\n",
              "                (x-xmed)^2  \n",
              "Intervalo                   \n",
              "[2116, 2644)  7.226360e+07  \n",
              "[2644, 3172)  2.692960e+08  \n",
              "[3172, 3700)  3.987594e+08  \n",
              "[3700, 4228)  1.847212e+07  \n",
              "[4228, 4756)  1.629973e+08  \n",
              "[4756, 5284)  4.275168e+08  \n",
              "[5284, 5812)  1.378915e+08  \n",
              "[5812, 6340)  1.593351e+07  "
            ],
            "text/html": [
              "\n",
              "  <div id=\"df-01c0d029-6748-4235-9502-d0a583299801\">\n",
              "    <div class=\"colab-df-container\">\n",
              "      <div>\n",
              "<style scoped>\n",
              "    .dataframe tbody tr th:only-of-type {\n",
              "        vertical-align: middle;\n",
              "    }\n",
              "\n",
              "    .dataframe tbody tr th {\n",
              "        vertical-align: top;\n",
              "    }\n",
              "\n",
              "    .dataframe thead th {\n",
              "        text-align: right;\n",
              "    }\n",
              "</style>\n",
              "<table border=\"1\" class=\"dataframe\">\n",
              "  <thead>\n",
              "    <tr style=\"text-align: right;\">\n",
              "      <th></th>\n",
              "      <th>LimInf</th>\n",
              "      <th>LimSup</th>\n",
              "      <th>Marca</th>\n",
              "      <th>fi</th>\n",
              "      <th>Fi</th>\n",
              "      <th>x.f</th>\n",
              "      <th>(x.med</th>\n",
              "      <th>(x-xmed).fi</th>\n",
              "      <th>(x-xmed)^2</th>\n",
              "    </tr>\n",
              "    <tr>\n",
              "      <th>Intervalo</th>\n",
              "      <th></th>\n",
              "      <th></th>\n",
              "      <th></th>\n",
              "      <th></th>\n",
              "      <th></th>\n",
              "      <th></th>\n",
              "      <th></th>\n",
              "      <th></th>\n",
              "      <th></th>\n",
              "    </tr>\n",
              "  </thead>\n",
              "  <tbody>\n",
              "    <tr>\n",
              "      <th>[2116, 2644)</th>\n",
              "      <td>2116</td>\n",
              "      <td>2644</td>\n",
              "      <td>2380.0</td>\n",
              "      <td>5</td>\n",
              "      <td>5</td>\n",
              "      <td>11900.0</td>\n",
              "      <td>-1700.16</td>\n",
              "      <td>-8500.80</td>\n",
              "      <td>7.226360e+07</td>\n",
              "    </tr>\n",
              "    <tr>\n",
              "      <th>[2644, 3172)</th>\n",
              "      <td>2644</td>\n",
              "      <td>3172</td>\n",
              "      <td>2908.0</td>\n",
              "      <td>14</td>\n",
              "      <td>19</td>\n",
              "      <td>40712.0</td>\n",
              "      <td>-1172.16</td>\n",
              "      <td>-16410.24</td>\n",
              "      <td>2.692960e+08</td>\n",
              "    </tr>\n",
              "    <tr>\n",
              "      <th>[3172, 3700)</th>\n",
              "      <td>3172</td>\n",
              "      <td>3700</td>\n",
              "      <td>3436.0</td>\n",
              "      <td>31</td>\n",
              "      <td>50</td>\n",
              "      <td>106516.0</td>\n",
              "      <td>-644.16</td>\n",
              "      <td>-19968.96</td>\n",
              "      <td>3.987594e+08</td>\n",
              "    </tr>\n",
              "    <tr>\n",
              "      <th>[3700, 4228)</th>\n",
              "      <td>3700</td>\n",
              "      <td>4228</td>\n",
              "      <td>3964.0</td>\n",
              "      <td>37</td>\n",
              "      <td>87</td>\n",
              "      <td>146668.0</td>\n",
              "      <td>-116.16</td>\n",
              "      <td>-4297.92</td>\n",
              "      <td>1.847212e+07</td>\n",
              "    </tr>\n",
              "    <tr>\n",
              "      <th>[4228, 4756)</th>\n",
              "      <td>4228</td>\n",
              "      <td>4756</td>\n",
              "      <td>4492.0</td>\n",
              "      <td>31</td>\n",
              "      <td>118</td>\n",
              "      <td>139252.0</td>\n",
              "      <td>411.84</td>\n",
              "      <td>12767.04</td>\n",
              "      <td>1.629973e+08</td>\n",
              "    </tr>\n",
              "    <tr>\n",
              "      <th>[4756, 5284)</th>\n",
              "      <td>4756</td>\n",
              "      <td>5284</td>\n",
              "      <td>5020.0</td>\n",
              "      <td>22</td>\n",
              "      <td>140</td>\n",
              "      <td>110440.0</td>\n",
              "      <td>939.84</td>\n",
              "      <td>20676.48</td>\n",
              "      <td>4.275168e+08</td>\n",
              "    </tr>\n",
              "    <tr>\n",
              "      <th>[5284, 5812)</th>\n",
              "      <td>5284</td>\n",
              "      <td>5812</td>\n",
              "      <td>5548.0</td>\n",
              "      <td>8</td>\n",
              "      <td>148</td>\n",
              "      <td>44384.0</td>\n",
              "      <td>1467.84</td>\n",
              "      <td>11742.72</td>\n",
              "      <td>1.378915e+08</td>\n",
              "    </tr>\n",
              "    <tr>\n",
              "      <th>[5812, 6340)</th>\n",
              "      <td>5812</td>\n",
              "      <td>6340</td>\n",
              "      <td>6076.0</td>\n",
              "      <td>2</td>\n",
              "      <td>150</td>\n",
              "      <td>12152.0</td>\n",
              "      <td>1995.84</td>\n",
              "      <td>3991.68</td>\n",
              "      <td>1.593351e+07</td>\n",
              "    </tr>\n",
              "  </tbody>\n",
              "</table>\n",
              "</div>\n",
              "      <button class=\"colab-df-convert\" onclick=\"convertToInteractive('df-01c0d029-6748-4235-9502-d0a583299801')\"\n",
              "              title=\"Convert this dataframe to an interactive table.\"\n",
              "              style=\"display:none;\">\n",
              "        \n",
              "  <svg xmlns=\"http://www.w3.org/2000/svg\" height=\"24px\"viewBox=\"0 0 24 24\"\n",
              "       width=\"24px\">\n",
              "    <path d=\"M0 0h24v24H0V0z\" fill=\"none\"/>\n",
              "    <path d=\"M18.56 5.44l.94 2.06.94-2.06 2.06-.94-2.06-.94-.94-2.06-.94 2.06-2.06.94zm-11 1L8.5 8.5l.94-2.06 2.06-.94-2.06-.94L8.5 2.5l-.94 2.06-2.06.94zm10 10l.94 2.06.94-2.06 2.06-.94-2.06-.94-.94-2.06-.94 2.06-2.06.94z\"/><path d=\"M17.41 7.96l-1.37-1.37c-.4-.4-.92-.59-1.43-.59-.52 0-1.04.2-1.43.59L10.3 9.45l-7.72 7.72c-.78.78-.78 2.05 0 2.83L4 21.41c.39.39.9.59 1.41.59.51 0 1.02-.2 1.41-.59l7.78-7.78 2.81-2.81c.8-.78.8-2.07 0-2.86zM5.41 20L4 18.59l7.72-7.72 1.47 1.35L5.41 20z\"/>\n",
              "  </svg>\n",
              "      </button>\n",
              "      \n",
              "  <style>\n",
              "    .colab-df-container {\n",
              "      display:flex;\n",
              "      flex-wrap:wrap;\n",
              "      gap: 12px;\n",
              "    }\n",
              "\n",
              "    .colab-df-convert {\n",
              "      background-color: #E8F0FE;\n",
              "      border: none;\n",
              "      border-radius: 50%;\n",
              "      cursor: pointer;\n",
              "      display: none;\n",
              "      fill: #1967D2;\n",
              "      height: 32px;\n",
              "      padding: 0 0 0 0;\n",
              "      width: 32px;\n",
              "    }\n",
              "\n",
              "    .colab-df-convert:hover {\n",
              "      background-color: #E2EBFA;\n",
              "      box-shadow: 0px 1px 2px rgba(60, 64, 67, 0.3), 0px 1px 3px 1px rgba(60, 64, 67, 0.15);\n",
              "      fill: #174EA6;\n",
              "    }\n",
              "\n",
              "    [theme=dark] .colab-df-convert {\n",
              "      background-color: #3B4455;\n",
              "      fill: #D2E3FC;\n",
              "    }\n",
              "\n",
              "    [theme=dark] .colab-df-convert:hover {\n",
              "      background-color: #434B5C;\n",
              "      box-shadow: 0px 1px 3px 1px rgba(0, 0, 0, 0.15);\n",
              "      filter: drop-shadow(0px 1px 2px rgba(0, 0, 0, 0.3));\n",
              "      fill: #FFFFFF;\n",
              "    }\n",
              "  </style>\n",
              "\n",
              "      <script>\n",
              "        const buttonEl =\n",
              "          document.querySelector('#df-01c0d029-6748-4235-9502-d0a583299801 button.colab-df-convert');\n",
              "        buttonEl.style.display =\n",
              "          google.colab.kernel.accessAllowed ? 'block' : 'none';\n",
              "\n",
              "        async function convertToInteractive(key) {\n",
              "          const element = document.querySelector('#df-01c0d029-6748-4235-9502-d0a583299801');\n",
              "          const dataTable =\n",
              "            await google.colab.kernel.invokeFunction('convertToInteractive',\n",
              "                                                     [key], {});\n",
              "          if (!dataTable) return;\n",
              "\n",
              "          const docLinkHtml = 'Like what you see? Visit the ' +\n",
              "            '<a target=\"_blank\" href=https://colab.research.google.com/notebooks/data_table.ipynb>data table notebook</a>'\n",
              "            + ' to learn more about interactive tables.';\n",
              "          element.innerHTML = '';\n",
              "          dataTable['output_type'] = 'display_data';\n",
              "          await google.colab.output.renderOutput(dataTable, element);\n",
              "          const docLink = document.createElement('div');\n",
              "          docLink.innerHTML = docLinkHtml;\n",
              "          element.appendChild(docLink);\n",
              "        }\n",
              "      </script>\n",
              "    </div>\n",
              "  </div>\n",
              "  "
            ]
          },
          "metadata": {},
          "execution_count": 37
        }
      ]
    },
    {
      "cell_type": "code",
      "source": [
        "medidas_ad"
      ],
      "metadata": {
        "colab": {
          "base_uri": "https://localhost:8080/",
          "height": 344
        },
        "id": "rVv3dfUFKkXM",
        "outputId": "38f5d5fb-e7d1-4bb8-a544-00277aa870c5"
      },
      "execution_count": 38,
      "outputs": [
        {
          "output_type": "execute_result",
          "data": {
            "text/plain": [
              "                 Medida          Valor\n",
              "0       Numero de Datos     150.000000\n",
              "1          Valor Maximo    6333.000000\n",
              "2          Valor Minimo    2116.000000\n",
              "3                 Rango    4217.000000\n",
              "4            Intervalos       8.000000\n",
              "5              Amplitud     527.000000\n",
              "6                 Media    4080.160000\n",
              "7               Mediana    4019.000000\n",
              "8                  Moda    3407.000000\n",
              "9              Varianza  615481.913244\n",
              "10  Desviacion Estandar     784.526554"
            ],
            "text/html": [
              "\n",
              "  <div id=\"df-9d8a1912-ec3b-4827-933a-a6e7db036605\">\n",
              "    <div class=\"colab-df-container\">\n",
              "      <div>\n",
              "<style scoped>\n",
              "    .dataframe tbody tr th:only-of-type {\n",
              "        vertical-align: middle;\n",
              "    }\n",
              "\n",
              "    .dataframe tbody tr th {\n",
              "        vertical-align: top;\n",
              "    }\n",
              "\n",
              "    .dataframe thead th {\n",
              "        text-align: right;\n",
              "    }\n",
              "</style>\n",
              "<table border=\"1\" class=\"dataframe\">\n",
              "  <thead>\n",
              "    <tr style=\"text-align: right;\">\n",
              "      <th></th>\n",
              "      <th>Medida</th>\n",
              "      <th>Valor</th>\n",
              "    </tr>\n",
              "  </thead>\n",
              "  <tbody>\n",
              "    <tr>\n",
              "      <th>0</th>\n",
              "      <td>Numero de Datos</td>\n",
              "      <td>150.000000</td>\n",
              "    </tr>\n",
              "    <tr>\n",
              "      <th>1</th>\n",
              "      <td>Valor Maximo</td>\n",
              "      <td>6333.000000</td>\n",
              "    </tr>\n",
              "    <tr>\n",
              "      <th>2</th>\n",
              "      <td>Valor Minimo</td>\n",
              "      <td>2116.000000</td>\n",
              "    </tr>\n",
              "    <tr>\n",
              "      <th>3</th>\n",
              "      <td>Rango</td>\n",
              "      <td>4217.000000</td>\n",
              "    </tr>\n",
              "    <tr>\n",
              "      <th>4</th>\n",
              "      <td>Intervalos</td>\n",
              "      <td>8.000000</td>\n",
              "    </tr>\n",
              "    <tr>\n",
              "      <th>5</th>\n",
              "      <td>Amplitud</td>\n",
              "      <td>527.000000</td>\n",
              "    </tr>\n",
              "    <tr>\n",
              "      <th>6</th>\n",
              "      <td>Media</td>\n",
              "      <td>4080.160000</td>\n",
              "    </tr>\n",
              "    <tr>\n",
              "      <th>7</th>\n",
              "      <td>Mediana</td>\n",
              "      <td>4019.000000</td>\n",
              "    </tr>\n",
              "    <tr>\n",
              "      <th>8</th>\n",
              "      <td>Moda</td>\n",
              "      <td>3407.000000</td>\n",
              "    </tr>\n",
              "    <tr>\n",
              "      <th>9</th>\n",
              "      <td>Varianza</td>\n",
              "      <td>615481.913244</td>\n",
              "    </tr>\n",
              "    <tr>\n",
              "      <th>10</th>\n",
              "      <td>Desviacion Estandar</td>\n",
              "      <td>784.526554</td>\n",
              "    </tr>\n",
              "  </tbody>\n",
              "</table>\n",
              "</div>\n",
              "      <button class=\"colab-df-convert\" onclick=\"convertToInteractive('df-9d8a1912-ec3b-4827-933a-a6e7db036605')\"\n",
              "              title=\"Convert this dataframe to an interactive table.\"\n",
              "              style=\"display:none;\">\n",
              "        \n",
              "  <svg xmlns=\"http://www.w3.org/2000/svg\" height=\"24px\"viewBox=\"0 0 24 24\"\n",
              "       width=\"24px\">\n",
              "    <path d=\"M0 0h24v24H0V0z\" fill=\"none\"/>\n",
              "    <path d=\"M18.56 5.44l.94 2.06.94-2.06 2.06-.94-2.06-.94-.94-2.06-.94 2.06-2.06.94zm-11 1L8.5 8.5l.94-2.06 2.06-.94-2.06-.94L8.5 2.5l-.94 2.06-2.06.94zm10 10l.94 2.06.94-2.06 2.06-.94-2.06-.94-.94-2.06-.94 2.06-2.06.94z\"/><path d=\"M17.41 7.96l-1.37-1.37c-.4-.4-.92-.59-1.43-.59-.52 0-1.04.2-1.43.59L10.3 9.45l-7.72 7.72c-.78.78-.78 2.05 0 2.83L4 21.41c.39.39.9.59 1.41.59.51 0 1.02-.2 1.41-.59l7.78-7.78 2.81-2.81c.8-.78.8-2.07 0-2.86zM5.41 20L4 18.59l7.72-7.72 1.47 1.35L5.41 20z\"/>\n",
              "  </svg>\n",
              "      </button>\n",
              "      \n",
              "  <style>\n",
              "    .colab-df-container {\n",
              "      display:flex;\n",
              "      flex-wrap:wrap;\n",
              "      gap: 12px;\n",
              "    }\n",
              "\n",
              "    .colab-df-convert {\n",
              "      background-color: #E8F0FE;\n",
              "      border: none;\n",
              "      border-radius: 50%;\n",
              "      cursor: pointer;\n",
              "      display: none;\n",
              "      fill: #1967D2;\n",
              "      height: 32px;\n",
              "      padding: 0 0 0 0;\n",
              "      width: 32px;\n",
              "    }\n",
              "\n",
              "    .colab-df-convert:hover {\n",
              "      background-color: #E2EBFA;\n",
              "      box-shadow: 0px 1px 2px rgba(60, 64, 67, 0.3), 0px 1px 3px 1px rgba(60, 64, 67, 0.15);\n",
              "      fill: #174EA6;\n",
              "    }\n",
              "\n",
              "    [theme=dark] .colab-df-convert {\n",
              "      background-color: #3B4455;\n",
              "      fill: #D2E3FC;\n",
              "    }\n",
              "\n",
              "    [theme=dark] .colab-df-convert:hover {\n",
              "      background-color: #434B5C;\n",
              "      box-shadow: 0px 1px 3px 1px rgba(0, 0, 0, 0.15);\n",
              "      filter: drop-shadow(0px 1px 2px rgba(0, 0, 0, 0.3));\n",
              "      fill: #FFFFFF;\n",
              "    }\n",
              "  </style>\n",
              "\n",
              "      <script>\n",
              "        const buttonEl =\n",
              "          document.querySelector('#df-9d8a1912-ec3b-4827-933a-a6e7db036605 button.colab-df-convert');\n",
              "        buttonEl.style.display =\n",
              "          google.colab.kernel.accessAllowed ? 'block' : 'none';\n",
              "\n",
              "        async function convertToInteractive(key) {\n",
              "          const element = document.querySelector('#df-9d8a1912-ec3b-4827-933a-a6e7db036605');\n",
              "          const dataTable =\n",
              "            await google.colab.kernel.invokeFunction('convertToInteractive',\n",
              "                                                     [key], {});\n",
              "          if (!dataTable) return;\n",
              "\n",
              "          const docLinkHtml = 'Like what you see? Visit the ' +\n",
              "            '<a target=\"_blank\" href=https://colab.research.google.com/notebooks/data_table.ipynb>data table notebook</a>'\n",
              "            + ' to learn more about interactive tables.';\n",
              "          element.innerHTML = '';\n",
              "          dataTable['output_type'] = 'display_data';\n",
              "          await google.colab.output.renderOutput(dataTable, element);\n",
              "          const docLink = document.createElement('div');\n",
              "          docLink.innerHTML = docLinkHtml;\n",
              "          element.appendChild(docLink);\n",
              "        }\n",
              "      </script>\n",
              "    </div>\n",
              "  </div>\n",
              "  "
            ]
          },
          "metadata": {},
          "execution_count": 38
        }
      ]
    },
    {
      "cell_type": "code",
      "source": [
        "# Utilizo un histograma para validar el Limite superior contra la frecuancia \n",
        "\n",
        "sns.histplot(data=df_ad, x=\"LimSup\", y=\"fi\", hue=\"fi\")"
      ],
      "metadata": {
        "colab": {
          "base_uri": "https://localhost:8080/",
          "height": 300
        },
        "id": "OtlXWystKnU0",
        "outputId": "91f4cbd0-bd71-4d94-b9ba-c99f5e5b929f"
      },
      "execution_count": 39,
      "outputs": [
        {
          "output_type": "execute_result",
          "data": {
            "text/plain": [
              "<matplotlib.axes._subplots.AxesSubplot at 0x7f608133da10>"
            ]
          },
          "metadata": {},
          "execution_count": 39
        },
        {
          "output_type": "display_data",
          "data": {
            "text/plain": [
              "<Figure size 432x288 with 1 Axes>"
            ],
            "image/png": "[encoded data removed]"
          },
          "metadata": {}
        }
      ]
    },
    {
      "cell_type": "markdown",
      "source": [
        "# **Correlación lineal**\n",
        "\n",
        "ING: INGRESOS FAMILIARES ANUALES | AL: GASTOS DE ALIMENTACIÓN ANUALES | AD: GASTOS ADICIONALES ANUALES"
      ],
      "metadata": {
        "id": "xfMnQQ36L_kA"
      }
    },
    {
      "cell_type": "code",
      "source": [
        "# Media de la muestra\n",
        "pmedia = aca2.mean()\n",
        "# Varianza de la muestra\n",
        "pvar = aca2.var()\n",
        "# Desviación estánda de la muestra\n",
        "pstd = aca2.std()"
      ],
      "metadata": {
        "id": "KsNMVTOnKpyg"
      },
      "execution_count": 40,
      "outputs": []
    },
    {
      "cell_type": "code",
      "source": [
        "# Utilizo un histograma para validar la distribución de la variable\n",
        "\n",
        "sns.pairplot(aca2)"
      ],
      "metadata": {
        "colab": {
          "base_uri": "https://localhost:8080/",
          "height": 568
        },
        "id": "m0E8RKPZNWfw",
        "outputId": "fabd983c-80b7-4d87-f513-ee6e92596052"
      },
      "execution_count": 41,
      "outputs": [
        {
          "output_type": "execute_result",
          "data": {
            "text/plain": [
              "<seaborn.axisgrid.PairGrid at 0x7f60807c8bd0>"
            ]
          },
          "metadata": {},
          "execution_count": 41
        },
        {
          "output_type": "display_data",
          "data": {
            "text/plain": [
              "<Figure size 540x540 with 12 Axes>"
            ],
            "image/png": "[encoded data removed]"
          },
          "metadata": {}
        }
      ]
    },
    {
      "cell_type": "code",
      "source": [
        "# Creo un diagrama de dispersión para la muestra \n",
        "plt.scatter(aca2['ING'],aca2['AL'], color='green', label=\"Ing - Al\", alpha=0.7)\n",
        "plt.scatter(aca2['AL'],aca2['AD'], color='red', label=\"Al - Ad\", alpha=0.5)\n",
        "plt.scatter(aca2['ING'],aca2['AL'], color='yellow', label=\"Ing - Ad\", alpha=0.5)\n",
        "plt.title('Muestra 150')\n",
        "plt.xlabel(\"X\")\n",
        "plt.ylabel(\"Y\")\n",
        "plt.legend()\n",
        "plt.show()"
      ],
      "metadata": {
        "colab": {
          "base_uri": "https://localhost:8080/",
          "height": 299
        },
        "id": "vXO9gOf0NcnJ",
        "outputId": "99364985-170c-4cab-dbfe-22700414e93c"
      },
      "execution_count": 47,
      "outputs": [
        {
          "output_type": "display_data",
          "data": {
            "text/plain": [
              "<Figure size 432x288 with 1 Axes>"
            ],
            "image/png": "[encoded data removed]"
          },
          "metadata": {}
        }
      ]
    },
    {
      "cell_type": "code",
      "source": [
        "# Metodo Pearson\n",
        "rPearson1M = aca2.corr(method='pearson')"
      ],
      "metadata": {
        "id": "c_XPQRITOLJu"
      },
      "execution_count": 48,
      "outputs": []
    },
    {
      "cell_type": "code",
      "source": [
        "rPearson1M"
      ],
      "metadata": {
        "colab": {
          "base_uri": "https://localhost:8080/",
          "height": 143
        },
        "id": "OQsjlZ0kOfJi",
        "outputId": "cf9b8e43-bac1-469b-bb8a-ebb75298b588"
      },
      "execution_count": 49,
      "outputs": [
        {
          "output_type": "execute_result",
          "data": {
            "text/plain": [
              "          ING       AL        AD\n",
              "ING  1.000000  0.86074  0.625716\n",
              "AL   0.860740  1.00000  0.531080\n",
              "AD   0.625716  0.53108  1.000000"
            ],
            "text/html": [
              "\n",
              "  <div id=\"df-e1711d34-5be0-452c-89e4-fd2b71a991cf\">\n",
              "    <div class=\"colab-df-container\">\n",
              "      <div>\n",
              "<style scoped>\n",
              "    .dataframe tbody tr th:only-of-type {\n",
              "        vertical-align: middle;\n",
              "    }\n",
              "\n",
              "    .dataframe tbody tr th {\n",
              "        vertical-align: top;\n",
              "    }\n",
              "\n",
              "    .dataframe thead th {\n",
              "        text-align: right;\n",
              "    }\n",
              "</style>\n",
              "<table border=\"1\" class=\"dataframe\">\n",
              "  <thead>\n",
              "    <tr style=\"text-align: right;\">\n",
              "      <th></th>\n",
              "      <th>ING</th>\n",
              "      <th>AL</th>\n",
              "      <th>AD</th>\n",
              "    </tr>\n",
              "  </thead>\n",
              "  <tbody>\n",
              "    <tr>\n",
              "      <th>ING</th>\n",
              "      <td>1.000000</td>\n",
              "      <td>0.86074</td>\n",
              "      <td>0.625716</td>\n",
              "    </tr>\n",
              "    <tr>\n",
              "      <th>AL</th>\n",
              "      <td>0.860740</td>\n",
              "      <td>1.00000</td>\n",
              "      <td>0.531080</td>\n",
              "    </tr>\n",
              "    <tr>\n",
              "      <th>AD</th>\n",
              "      <td>0.625716</td>\n",
              "      <td>0.53108</td>\n",
              "      <td>1.000000</td>\n",
              "    </tr>\n",
              "  </tbody>\n",
              "</table>\n",
              "</div>\n",
              "      <button class=\"colab-df-convert\" onclick=\"convertToInteractive('df-e1711d34-5be0-452c-89e4-fd2b71a991cf')\"\n",
              "              title=\"Convert this dataframe to an interactive table.\"\n",
              "              style=\"display:none;\">\n",
              "        \n",
              "  <svg xmlns=\"http://www.w3.org/2000/svg\" height=\"24px\"viewBox=\"0 0 24 24\"\n",
              "       width=\"24px\">\n",
              "    <path d=\"M0 0h24v24H0V0z\" fill=\"none\"/>\n",
              "    <path d=\"M18.56 5.44l.94 2.06.94-2.06 2.06-.94-2.06-.94-.94-2.06-.94 2.06-2.06.94zm-11 1L8.5 8.5l.94-2.06 2.06-.94-2.06-.94L8.5 2.5l-.94 2.06-2.06.94zm10 10l.94 2.06.94-2.06 2.06-.94-2.06-.94-.94-2.06-.94 2.06-2.06.94z\"/><path d=\"M17.41 7.96l-1.37-1.37c-.4-.4-.92-.59-1.43-.59-.52 0-1.04.2-1.43.59L10.3 9.45l-7.72 7.72c-.78.78-.78 2.05 0 2.83L4 21.41c.39.39.9.59 1.41.59.51 0 1.02-.2 1.41-.59l7.78-7.78 2.81-2.81c.8-.78.8-2.07 0-2.86zM5.41 20L4 18.59l7.72-7.72 1.47 1.35L5.41 20z\"/>\n",
              "  </svg>\n",
              "      </button>\n",
              "      \n",
              "  <style>\n",
              "    .colab-df-container {\n",
              "      display:flex;\n",
              "      flex-wrap:wrap;\n",
              "      gap: 12px;\n",
              "    }\n",
              "\n",
              "    .colab-df-convert {\n",
              "      background-color: #E8F0FE;\n",
              "      border: none;\n",
              "      border-radius: 50%;\n",
              "      cursor: pointer;\n",
              "      display: none;\n",
              "      fill: #1967D2;\n",
              "      height: 32px;\n",
              "      padding: 0 0 0 0;\n",
              "      width: 32px;\n",
              "    }\n",
              "\n",
              "    .colab-df-convert:hover {\n",
              "      background-color: #E2EBFA;\n",
              "      box-shadow: 0px 1px 2px rgba(60, 64, 67, 0.3), 0px 1px 3px 1px rgba(60, 64, 67, 0.15);\n",
              "      fill: #174EA6;\n",
              "    }\n",
              "\n",
              "    [theme=dark] .colab-df-convert {\n",
              "      background-color: #3B4455;\n",
              "      fill: #D2E3FC;\n",
              "    }\n",
              "\n",
              "    [theme=dark] .colab-df-convert:hover {\n",
              "      background-color: #434B5C;\n",
              "      box-shadow: 0px 1px 3px 1px rgba(0, 0, 0, 0.15);\n",
              "      filter: drop-shadow(0px 1px 2px rgba(0, 0, 0, 0.3));\n",
              "      fill: #FFFFFF;\n",
              "    }\n",
              "  </style>\n",
              "\n",
              "      <script>\n",
              "        const buttonEl =\n",
              "          document.querySelector('#df-e1711d34-5be0-452c-89e4-fd2b71a991cf button.colab-df-convert');\n",
              "        buttonEl.style.display =\n",
              "          google.colab.kernel.accessAllowed ? 'block' : 'none';\n",
              "\n",
              "        async function convertToInteractive(key) {\n",
              "          const element = document.querySelector('#df-e1711d34-5be0-452c-89e4-fd2b71a991cf');\n",
              "          const dataTable =\n",
              "            await google.colab.kernel.invokeFunction('convertToInteractive',\n",
              "                                                     [key], {});\n",
              "          if (!dataTable) return;\n",
              "\n",
              "          const docLinkHtml = 'Like what you see? Visit the ' +\n",
              "            '<a target=\"_blank\" href=https://colab.research.google.com/notebooks/data_table.ipynb>data table notebook</a>'\n",
              "            + ' to learn more about interactive tables.';\n",
              "          element.innerHTML = '';\n",
              "          dataTable['output_type'] = 'display_data';\n",
              "          await google.colab.output.renderOutput(dataTable, element);\n",
              "          const docLink = document.createElement('div');\n",
              "          docLink.innerHTML = docLinkHtml;\n",
              "          element.appendChild(docLink);\n",
              "        }\n",
              "      </script>\n",
              "    </div>\n",
              "  </div>\n",
              "  "
            ]
          },
          "metadata": {},
          "execution_count": 49
        }
      ]
    },
    {
      "cell_type": "code",
      "source": [
        "# Mapa de calor de las correlaciones\n",
        "sns.heatmap(\n",
        "    rPearson1M,\n",
        "    xticklabels=rPearson1M.columns,\n",
        "    yticklabels=rPearson1M.columns,\n",
        "    cmap='coolwarm'\n",
        ")"
      ],
      "metadata": {
        "colab": {
          "base_uri": "https://localhost:8080/",
          "height": 287
        },
        "id": "TVppBiyHR5ca",
        "outputId": "4fe19ad2-9c4e-4afc-ccc7-4160948a750f"
      },
      "execution_count": 50,
      "outputs": [
        {
          "output_type": "execute_result",
          "data": {
            "text/plain": [
              "<matplotlib.axes._subplots.AxesSubplot at 0x7f607c027950>"
            ]
          },
          "metadata": {},
          "execution_count": 50
        },
        {
          "output_type": "display_data",
          "data": {
            "text/plain": [
              "<Figure size 432x288 with 2 Axes>"
            ],
            "image/png": "[encoded data removed]"
          },
          "metadata": {}
        }
      ]
    },
    {
      "cell_type": "markdown",
      "source": [
        "Azul = Correlacion Negativa | Rojo = Correlacion Positiva\n",
        "\n"
      ],
      "metadata": {
        "id": "aDtluLIESMU9"
      }
    },
    {
      "cell_type": "code",
      "source": [
        "dr = pd.DataFrame()\n",
        "dr['Rango'] = None\n",
        "dr['Relacion Lineal'] = None\n",
        "# Tabla de Relacion \n",
        "rl = ['Perfecta','Fuerte','Significativa','Moderada','Debil','Muy Debil','Nula']\n",
        "ra = ['0,96 - 1,0', '0,85 - 0,95','0,70 - 0,84','0,50 - 0,69','0,20 - 0,49',\n",
        "       '0,10 - 0,19','0,09 - 0,0']\n",
        "dr['Rango'] = ra\n",
        "dr['Relacion Lineal'] = rl\n",
        "\n"
      ],
      "metadata": {
        "id": "bQ5ZW94LSFfy"
      },
      "execution_count": 52,
      "outputs": []
    },
    {
      "cell_type": "code",
      "source": [
        "dr"
      ],
      "metadata": {
        "colab": {
          "base_uri": "https://localhost:8080/",
          "height": 269
        },
        "id": "AfIjH0ovSN13",
        "outputId": "cd95dd9d-f801-4221-9712-cd575fc286e0"
      },
      "execution_count": 53,
      "outputs": [
        {
          "output_type": "execute_result",
          "data": {
            "text/plain": [
              "         Rango Relacion Lineal\n",
              "0   0,96 - 1,0        Perfecta\n",
              "1  0,85 - 0,95          Fuerte\n",
              "2  0,70 - 0,84   Significativa\n",
              "3  0,50 - 0,69        Moderada\n",
              "4  0,20 - 0,49           Debil\n",
              "5  0,10 - 0,19       Muy Debil\n",
              "6   0,09 - 0,0            Nula"
            ],
            "text/html": [
              "\n",
              "  <div id=\"df-0b18a79c-e57b-407d-80da-ffed53ceda75\">\n",
              "    <div class=\"colab-df-container\">\n",
              "      <div>\n",
              "<style scoped>\n",
              "    .dataframe tbody tr th:only-of-type {\n",
              "        vertical-align: middle;\n",
              "    }\n",
              "\n",
              "    .dataframe tbody tr th {\n",
              "        vertical-align: top;\n",
              "    }\n",
              "\n",
              "    .dataframe thead th {\n",
              "        text-align: right;\n",
              "    }\n",
              "</style>\n",
              "<table border=\"1\" class=\"dataframe\">\n",
              "  <thead>\n",
              "    <tr style=\"text-align: right;\">\n",
              "      <th></th>\n",
              "      <th>Rango</th>\n",
              "      <th>Relacion Lineal</th>\n",
              "    </tr>\n",
              "  </thead>\n",
              "  <tbody>\n",
              "    <tr>\n",
              "      <th>0</th>\n",
              "      <td>0,96 - 1,0</td>\n",
              "      <td>Perfecta</td>\n",
              "    </tr>\n",
              "    <tr>\n",
              "      <th>1</th>\n",
              "      <td>0,85 - 0,95</td>\n",
              "      <td>Fuerte</td>\n",
              "    </tr>\n",
              "    <tr>\n",
              "      <th>2</th>\n",
              "      <td>0,70 - 0,84</td>\n",
              "      <td>Significativa</td>\n",
              "    </tr>\n",
              "    <tr>\n",
              "      <th>3</th>\n",
              "      <td>0,50 - 0,69</td>\n",
              "      <td>Moderada</td>\n",
              "    </tr>\n",
              "    <tr>\n",
              "      <th>4</th>\n",
              "      <td>0,20 - 0,49</td>\n",
              "      <td>Debil</td>\n",
              "    </tr>\n",
              "    <tr>\n",
              "      <th>5</th>\n",
              "      <td>0,10 - 0,19</td>\n",
              "      <td>Muy Debil</td>\n",
              "    </tr>\n",
              "    <tr>\n",
              "      <th>6</th>\n",
              "      <td>0,09 - 0,0</td>\n",
              "      <td>Nula</td>\n",
              "    </tr>\n",
              "  </tbody>\n",
              "</table>\n",
              "</div>\n",
              "      <button class=\"colab-df-convert\" onclick=\"convertToInteractive('df-0b18a79c-e57b-407d-80da-ffed53ceda75')\"\n",
              "              title=\"Convert this dataframe to an interactive table.\"\n",
              "              style=\"display:none;\">\n",
              "        \n",
              "  <svg xmlns=\"http://www.w3.org/2000/svg\" height=\"24px\"viewBox=\"0 0 24 24\"\n",
              "       width=\"24px\">\n",
              "    <path d=\"M0 0h24v24H0V0z\" fill=\"none\"/>\n",
              "    <path d=\"M18.56 5.44l.94 2.06.94-2.06 2.06-.94-2.06-.94-.94-2.06-.94 2.06-2.06.94zm-11 1L8.5 8.5l.94-2.06 2.06-.94-2.06-.94L8.5 2.5l-.94 2.06-2.06.94zm10 10l.94 2.06.94-2.06 2.06-.94-2.06-.94-.94-2.06-.94 2.06-2.06.94z\"/><path d=\"M17.41 7.96l-1.37-1.37c-.4-.4-.92-.59-1.43-.59-.52 0-1.04.2-1.43.59L10.3 9.45l-7.72 7.72c-.78.78-.78 2.05 0 2.83L4 21.41c.39.39.9.59 1.41.59.51 0 1.02-.2 1.41-.59l7.78-7.78 2.81-2.81c.8-.78.8-2.07 0-2.86zM5.41 20L4 18.59l7.72-7.72 1.47 1.35L5.41 20z\"/>\n",
              "  </svg>\n",
              "      </button>\n",
              "      \n",
              "  <style>\n",
              "    .colab-df-container {\n",
              "      display:flex;\n",
              "      flex-wrap:wrap;\n",
              "      gap: 12px;\n",
              "    }\n",
              "\n",
              "    .colab-df-convert {\n",
              "      background-color: #E8F0FE;\n",
              "      border: none;\n",
              "      border-radius: 50%;\n",
              "      cursor: pointer;\n",
              "      display: none;\n",
              "      fill: #1967D2;\n",
              "      height: 32px;\n",
              "      padding: 0 0 0 0;\n",
              "      width: 32px;\n",
              "    }\n",
              "\n",
              "    .colab-df-convert:hover {\n",
              "      background-color: #E2EBFA;\n",
              "      box-shadow: 0px 1px 2px rgba(60, 64, 67, 0.3), 0px 1px 3px 1px rgba(60, 64, 67, 0.15);\n",
              "      fill: #174EA6;\n",
              "    }\n",
              "\n",
              "    [theme=dark] .colab-df-convert {\n",
              "      background-color: #3B4455;\n",
              "      fill: #D2E3FC;\n",
              "    }\n",
              "\n",
              "    [theme=dark] .colab-df-convert:hover {\n",
              "      background-color: #434B5C;\n",
              "      box-shadow: 0px 1px 3px 1px rgba(0, 0, 0, 0.15);\n",
              "      filter: drop-shadow(0px 1px 2px rgba(0, 0, 0, 0.3));\n",
              "      fill: #FFFFFF;\n",
              "    }\n",
              "  </style>\n",
              "\n",
              "      <script>\n",
              "        const buttonEl =\n",
              "          document.querySelector('#df-0b18a79c-e57b-407d-80da-ffed53ceda75 button.colab-df-convert');\n",
              "        buttonEl.style.display =\n",
              "          google.colab.kernel.accessAllowed ? 'block' : 'none';\n",
              "\n",
              "        async function convertToInteractive(key) {\n",
              "          const element = document.querySelector('#df-0b18a79c-e57b-407d-80da-ffed53ceda75');\n",
              "          const dataTable =\n",
              "            await google.colab.kernel.invokeFunction('convertToInteractive',\n",
              "                                                     [key], {});\n",
              "          if (!dataTable) return;\n",
              "\n",
              "          const docLinkHtml = 'Like what you see? Visit the ' +\n",
              "            '<a target=\"_blank\" href=https://colab.research.google.com/notebooks/data_table.ipynb>data table notebook</a>'\n",
              "            + ' to learn more about interactive tables.';\n",
              "          element.innerHTML = '';\n",
              "          dataTable['output_type'] = 'display_data';\n",
              "          await google.colab.output.renderOutput(dataTable, element);\n",
              "          const docLink = document.createElement('div');\n",
              "          docLink.innerHTML = docLinkHtml;\n",
              "          element.appendChild(docLink);\n",
              "        }\n",
              "      </script>\n",
              "    </div>\n",
              "  </div>\n",
              "  "
            ]
          },
          "metadata": {},
          "execution_count": 53
        }
      ]
    },
    {
      "cell_type": "markdown",
      "source": [
        "**Interpretación**\n",
        "\n",
        "\n",
        "---\n",
        "\n",
        "\n",
        "El valor del índice de correlación varía en el intervalo [-1,1], indicando el signo el sentido de la relación:\n",
        "\n",
        "Si r =1, existe una correlación positiva perfecta. El índice indica una dependencia total entre las dos variables denominada relación directa: cuando una de ellas aumenta, la otra también lo hace en proporción constante. Si 0 < r < 1 entonces existe una correlación positiva. Si r = 0 entonces no existe relación lineal pero esto no necesariamente implica que las variables son independientes: pueden existir todavía relaciones no lineales entre las dos variables. Si -1 < r < 0 , existe una correlación negativa. Si r = -1, existe una correlación negativa perfecta. El índice indica una dependencia total entre las dos variables llamada relación opuesta: cuando una de ellas aumenta, la otra cambia su signo en proporción constante."
      ],
      "metadata": {
        "id": "NuekRQl9T8XI"
      }
    },
    {
      "cell_type": "markdown",
      "source": [
        "Interpretación\n",
        "\n",
        "* ING - AL [Fuerte]\n",
        "* ING - AD [Moderada]\n",
        "* AL - AD [Moderada]\n",
        "\n",
        "\n"
      ],
      "metadata": {
        "id": "Y7WsmodQS3Vp"
      }
    },
    {
      "cell_type": "code",
      "source": [],
      "metadata": {
        "id": "BGMhVZ2GSyiK"
      },
      "execution_count": null,
      "outputs": []
    }
  ]
}